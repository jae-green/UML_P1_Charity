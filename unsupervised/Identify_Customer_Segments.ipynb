{
 "cells": [
  {
   "cell_type": "markdown",
   "metadata": {},
   "source": [
    "# Project: Identify Customer Segments\n",
    "\n",
    "In this project, you will apply unsupervised learning techniques to identify segments of the population that form the core customer base for a mail-order sales company in Germany. These segments can then be used to direct marketing campaigns towards audiences that will have the highest expected rate of returns. The data that you will use has been provided by our partners at Bertelsmann Arvato Analytics, and represents a real-life data science task.\n",
    "\n",
    "This notebook will help you complete this task by providing a framework within which you will perform your analysis steps. In each step of the project, you will see some text describing the subtask that you will perform, followed by one or more code cells for you to complete your work. **Feel free to add additional code and markdown cells as you go along so that you can explore everything in precise chunks.** The code cells provided in the base template will outline only the major tasks, and will usually not be enough to cover all of the minor tasks that comprise it.\n",
    "\n",
    "It should be noted that while there will be precise guidelines on how you should handle certain tasks in the project, there will also be places where an exact specification is not provided. **There will be times in the project where you will need to make and justify your own decisions on how to treat the data.** These are places where there may not be only one way to handle the data. In real-life tasks, there may be many valid ways to approach an analysis task. One of the most important things you can do is clearly document your approach so that other scientists can understand the decisions you've made.\n",
    "\n",
    "At the end of most sections, there will be a Markdown cell labeled **Discussion**. In these cells, you will report your findings for the completed section, as well as document the decisions that you made in your approach to each subtask. **Your project will be evaluated not just on the code used to complete the tasks outlined, but also your communication about your observations and conclusions at each stage.**"
   ]
  },
  {
   "cell_type": "markdown",
   "metadata": {},
   "source": [
    "## Table of Contents <a name=\"toc\"></a>\n",
    "\n",
    "### 0. [Load the Data](#step0)\n",
    "\n",
    "\n",
    "### 1. [Preprocessing](#step1)\n",
    " \n",
    "- **1.1: [Assess Missing Data](#step11)**\n",
    "\n",
    "    - 1.1.1: [Convert Missing Value Codes to NaNs](#step111)\n",
    "\n",
    "    - 1.1.2: [Assess Missing Data in Each Column](#step112) & [Discussion](#disc112)\n",
    "\n",
    "    - 1.1.3: [Assess Missing Data in Each Row](#step113) & [Discussion](#disc113)\n",
    "\n",
    "- **1.2: [Select and Re-Encode Features](#step12)**\n",
    "\n",
    "    - 1.2.1: [Re-Encode Categorical Features](#step121) & [Discussion](#disc121)\n",
    "\n",
    "\t- 1.2.2: [Engineer Mixed-Type Features](#step122) & [Discussion](#disc122)\n",
    "\n",
    "\t- 1.2.3: [Complete Feature Selection](#step123)\n",
    "\n",
    "- **1.3: [Create a Cleaning Function](#step13)**\n",
    "\n",
    "\n",
    "### 2. [Feature Transformation](#step2)\n",
    "\n",
    "- 2.1: [Apply Feature Scaling](#step21) & [Discussion](#disc21)\n",
    "\n",
    "- 2.2: [Perform Dimensionality Reduction](#step22) & [Discussion](#disc22)\n",
    "\n",
    "- 2.3: [Interpret Principal Components](#step23) & [Discussion](#disc23) \n",
    "\n",
    "\n",
    "### 3. [Clustering](#step3)\n",
    "\n",
    "- 3.1: [Apply Clustering to General Population](#step31) & [Discussion](#disc31)\n",
    "\n",
    "- 3.2: [Apply All Steps to the Customer Data](#step32)\n",
    "\n",
    "- 3.3: [Compare Customer Data to Demographics Data](#step33) & [Discussion](#disc33)"
   ]
  },
  {
   "cell_type": "code",
   "execution_count": 1,
   "metadata": {},
   "outputs": [
    {
     "data": {
      "text/plain": [
       "'\\nImport note: The classroom currently uses sklearn version 0.19.\\nIf you need to use an imputer, it is available in sklearn.preprocessing.Imputer,\\ninstead of sklearn.impute as in newer versions of sklearn.\\n'"
      ]
     },
     "execution_count": 1,
     "metadata": {},
     "output_type": "execute_result"
    }
   ],
   "source": [
    "# import libraries here; add more as necessary\n",
    "import numpy as np\n",
    "import pandas as pd\n",
    "import matplotlib.pyplot as plt\n",
    "import seaborn as sns\n",
    "\n",
    "from sklearn.preprocessing import StandardScaler, Imputer\n",
    "from sklearn.decomposition import PCA\n",
    "from sklearn.cluster import KMeans\n",
    "\n",
    "# magic word for producing visualizations in notebook\n",
    "%matplotlib inline\n",
    "\n",
    "'''\n",
    "Import note: The classroom currently uses sklearn version 0.19.\n",
    "If you need to use an imputer, it is available in sklearn.preprocessing.Imputer,\n",
    "instead of sklearn.impute as in newer versions of sklearn.\n",
    "'''"
   ]
  },
  {
   "cell_type": "markdown",
   "metadata": {},
   "source": [
    "### Step 0: Load the Data  <a name=\"step0\"></a> \n",
    "[(return to TOC)](#toc)\n",
    "\n",
    "There are four files associated with this project (not including this one):\n",
    "\n",
    "- `Udacity_AZDIAS_Subset.csv`: Demographics data for the general population of Germany; 891211 persons (rows) x 85 features (columns).\n",
    "- `Udacity_CUSTOMERS_Subset.csv`: Demographics data for customers of a mail-order company; 191652 persons (rows) x 85 features (columns).\n",
    "- `Data_Dictionary.md`: Detailed information file about the features in the provided datasets.\n",
    "- `AZDIAS_Feature_Summary.csv`: Summary of feature attributes for demographics data; 85 features (rows) x 4 columns\n",
    "\n",
    "Each row of the demographics files represents a single person, but also includes information outside of individuals, including information about their household, building, and neighborhood. You will use this information to cluster the general population into groups with similar demographic properties. Then, you will see how the people in the customers dataset fit into those created clusters. The hope here is that certain clusters are over-represented in the customers data, as compared to the general population; those over-represented clusters will be assumed to be part of the core userbase. This information can then be used for further applications, such as targeting for a marketing campaign.\n",
    "\n",
    "To start off with, load in the demographics data for the general population into a pandas DataFrame, and do the same for the feature attributes summary. Note for all of the `.csv` data files in this project: they're semicolon (`;`) delimited, so you'll need an additional argument in your [`read_csv()`](https://pandas.pydata.org/pandas-docs/stable/generated/pandas.read_csv.html) call to read in the data properly. Also, considering the size of the main dataset, it may take some time for it to load completely.\n",
    "\n",
    "Once the dataset is loaded, it's recommended that you take a little bit of time just browsing the general structure of the dataset and feature summary file. You'll be getting deep into the innards of the cleaning in the first major step of the project, so gaining some general familiarity can help you get your bearings."
   ]
  },
  {
   "cell_type": "code",
   "execution_count": 2,
   "metadata": {},
   "outputs": [],
   "source": [
    "# Load in the general demographics data.\n",
    "azdias = pd.read_csv('Udacity_AZDIAS_Subset.csv', sep=';')\n",
    "\n",
    "# Load in the feature summary file.\n",
    "feat_info = pd.read_csv('AZDIAS_Feature_Summary.csv', sep=';')"
   ]
  },
  {
   "cell_type": "code",
   "execution_count": 3,
   "metadata": {},
   "outputs": [
    {
     "name": "stdout",
     "output_type": "stream",
     "text": [
      "Number of rows and columns in Adzias Dataset: (891221, 85)\n"
     ]
    },
    {
     "data": {
      "text/html": [
       "<div>\n",
       "<style scoped>\n",
       "    .dataframe tbody tr th:only-of-type {\n",
       "        vertical-align: middle;\n",
       "    }\n",
       "\n",
       "    .dataframe tbody tr th {\n",
       "        vertical-align: top;\n",
       "    }\n",
       "\n",
       "    .dataframe thead th {\n",
       "        text-align: right;\n",
       "    }\n",
       "</style>\n",
       "<table border=\"1\" class=\"dataframe\">\n",
       "  <thead>\n",
       "    <tr style=\"text-align: right;\">\n",
       "      <th></th>\n",
       "      <th>AGER_TYP</th>\n",
       "      <th>ALTERSKATEGORIE_GROB</th>\n",
       "      <th>ANREDE_KZ</th>\n",
       "      <th>CJT_GESAMTTYP</th>\n",
       "      <th>FINANZ_MINIMALIST</th>\n",
       "      <th>FINANZ_SPARER</th>\n",
       "      <th>FINANZ_VORSORGER</th>\n",
       "      <th>FINANZ_ANLEGER</th>\n",
       "      <th>FINANZ_UNAUFFAELLIGER</th>\n",
       "      <th>FINANZ_HAUSBAUER</th>\n",
       "      <th>...</th>\n",
       "      <th>PLZ8_ANTG1</th>\n",
       "      <th>PLZ8_ANTG2</th>\n",
       "      <th>PLZ8_ANTG3</th>\n",
       "      <th>PLZ8_ANTG4</th>\n",
       "      <th>PLZ8_BAUMAX</th>\n",
       "      <th>PLZ8_HHZ</th>\n",
       "      <th>PLZ8_GBZ</th>\n",
       "      <th>ARBEIT</th>\n",
       "      <th>ORTSGR_KLS9</th>\n",
       "      <th>RELAT_AB</th>\n",
       "    </tr>\n",
       "  </thead>\n",
       "  <tbody>\n",
       "    <tr>\n",
       "      <th>66350</th>\n",
       "      <td>-1</td>\n",
       "      <td>3</td>\n",
       "      <td>1</td>\n",
       "      <td>4.0</td>\n",
       "      <td>5</td>\n",
       "      <td>2</td>\n",
       "      <td>3</td>\n",
       "      <td>5</td>\n",
       "      <td>3</td>\n",
       "      <td>1</td>\n",
       "      <td>...</td>\n",
       "      <td>4.0</td>\n",
       "      <td>1.0</td>\n",
       "      <td>0.0</td>\n",
       "      <td>0.0</td>\n",
       "      <td>1.0</td>\n",
       "      <td>1.0</td>\n",
       "      <td>2.0</td>\n",
       "      <td>1.0</td>\n",
       "      <td>1.0</td>\n",
       "      <td>1.0</td>\n",
       "    </tr>\n",
       "    <tr>\n",
       "      <th>613746</th>\n",
       "      <td>-1</td>\n",
       "      <td>3</td>\n",
       "      <td>2</td>\n",
       "      <td>2.0</td>\n",
       "      <td>2</td>\n",
       "      <td>3</td>\n",
       "      <td>4</td>\n",
       "      <td>2</td>\n",
       "      <td>3</td>\n",
       "      <td>4</td>\n",
       "      <td>...</td>\n",
       "      <td>1.0</td>\n",
       "      <td>4.0</td>\n",
       "      <td>3.0</td>\n",
       "      <td>2.0</td>\n",
       "      <td>5.0</td>\n",
       "      <td>5.0</td>\n",
       "      <td>3.0</td>\n",
       "      <td>3.0</td>\n",
       "      <td>7.0</td>\n",
       "      <td>3.0</td>\n",
       "    </tr>\n",
       "    <tr>\n",
       "      <th>432825</th>\n",
       "      <td>2</td>\n",
       "      <td>4</td>\n",
       "      <td>2</td>\n",
       "      <td>2.0</td>\n",
       "      <td>4</td>\n",
       "      <td>1</td>\n",
       "      <td>5</td>\n",
       "      <td>1</td>\n",
       "      <td>3</td>\n",
       "      <td>3</td>\n",
       "      <td>...</td>\n",
       "      <td>3.0</td>\n",
       "      <td>3.0</td>\n",
       "      <td>1.0</td>\n",
       "      <td>0.0</td>\n",
       "      <td>1.0</td>\n",
       "      <td>5.0</td>\n",
       "      <td>5.0</td>\n",
       "      <td>2.0</td>\n",
       "      <td>3.0</td>\n",
       "      <td>2.0</td>\n",
       "    </tr>\n",
       "    <tr>\n",
       "      <th>20705</th>\n",
       "      <td>-1</td>\n",
       "      <td>4</td>\n",
       "      <td>1</td>\n",
       "      <td>2.0</td>\n",
       "      <td>5</td>\n",
       "      <td>2</td>\n",
       "      <td>4</td>\n",
       "      <td>2</td>\n",
       "      <td>2</td>\n",
       "      <td>1</td>\n",
       "      <td>...</td>\n",
       "      <td>3.0</td>\n",
       "      <td>1.0</td>\n",
       "      <td>0.0</td>\n",
       "      <td>0.0</td>\n",
       "      <td>1.0</td>\n",
       "      <td>3.0</td>\n",
       "      <td>4.0</td>\n",
       "      <td>3.0</td>\n",
       "      <td>5.0</td>\n",
       "      <td>5.0</td>\n",
       "    </tr>\n",
       "    <tr>\n",
       "      <th>196298</th>\n",
       "      <td>-1</td>\n",
       "      <td>3</td>\n",
       "      <td>2</td>\n",
       "      <td>2.0</td>\n",
       "      <td>2</td>\n",
       "      <td>3</td>\n",
       "      <td>4</td>\n",
       "      <td>3</td>\n",
       "      <td>2</td>\n",
       "      <td>4</td>\n",
       "      <td>...</td>\n",
       "      <td>2.0</td>\n",
       "      <td>3.0</td>\n",
       "      <td>2.0</td>\n",
       "      <td>1.0</td>\n",
       "      <td>1.0</td>\n",
       "      <td>3.0</td>\n",
       "      <td>3.0</td>\n",
       "      <td>3.0</td>\n",
       "      <td>9.0</td>\n",
       "      <td>4.0</td>\n",
       "    </tr>\n",
       "  </tbody>\n",
       "</table>\n",
       "<p>5 rows × 85 columns</p>\n",
       "</div>"
      ],
      "text/plain": [
       "        AGER_TYP  ALTERSKATEGORIE_GROB  ANREDE_KZ  CJT_GESAMTTYP  \\\n",
       "66350         -1                     3          1            4.0   \n",
       "613746        -1                     3          2            2.0   \n",
       "432825         2                     4          2            2.0   \n",
       "20705         -1                     4          1            2.0   \n",
       "196298        -1                     3          2            2.0   \n",
       "\n",
       "        FINANZ_MINIMALIST  FINANZ_SPARER  FINANZ_VORSORGER  FINANZ_ANLEGER  \\\n",
       "66350                   5              2                 3               5   \n",
       "613746                  2              3                 4               2   \n",
       "432825                  4              1                 5               1   \n",
       "20705                   5              2                 4               2   \n",
       "196298                  2              3                 4               3   \n",
       "\n",
       "        FINANZ_UNAUFFAELLIGER  FINANZ_HAUSBAUER    ...     PLZ8_ANTG1  \\\n",
       "66350                       3                 1    ...            4.0   \n",
       "613746                      3                 4    ...            1.0   \n",
       "432825                      3                 3    ...            3.0   \n",
       "20705                       2                 1    ...            3.0   \n",
       "196298                      2                 4    ...            2.0   \n",
       "\n",
       "        PLZ8_ANTG2  PLZ8_ANTG3  PLZ8_ANTG4  PLZ8_BAUMAX  PLZ8_HHZ  PLZ8_GBZ  \\\n",
       "66350          1.0         0.0         0.0          1.0       1.0       2.0   \n",
       "613746         4.0         3.0         2.0          5.0       5.0       3.0   \n",
       "432825         3.0         1.0         0.0          1.0       5.0       5.0   \n",
       "20705          1.0         0.0         0.0          1.0       3.0       4.0   \n",
       "196298         3.0         2.0         1.0          1.0       3.0       3.0   \n",
       "\n",
       "        ARBEIT  ORTSGR_KLS9  RELAT_AB  \n",
       "66350      1.0          1.0       1.0  \n",
       "613746     3.0          7.0       3.0  \n",
       "432825     2.0          3.0       2.0  \n",
       "20705      3.0          5.0       5.0  \n",
       "196298     3.0          9.0       4.0  \n",
       "\n",
       "[5 rows x 85 columns]"
      ]
     },
     "execution_count": 3,
     "metadata": {},
     "output_type": "execute_result"
    }
   ],
   "source": [
    "# Check the structure of the data after it's loaded (e.g. print the number of\n",
    "# rows and columns, print the first few rows).\n",
    "\n",
    "print('Number of rows and columns in Adzias Dataset: {}'.format(azdias.shape))\n",
    "azdias.sample(5)"
   ]
  },
  {
   "cell_type": "code",
   "execution_count": 4,
   "metadata": {},
   "outputs": [
    {
     "name": "stdout",
     "output_type": "stream",
     "text": [
      "<class 'pandas.core.frame.DataFrame'>\n",
      "RangeIndex: 891221 entries, 0 to 891220\n",
      "Data columns (total 85 columns):\n",
      "AGER_TYP                 891221 non-null int64\n",
      "ALTERSKATEGORIE_GROB     891221 non-null int64\n",
      "ANREDE_KZ                891221 non-null int64\n",
      "CJT_GESAMTTYP            886367 non-null float64\n",
      "FINANZ_MINIMALIST        891221 non-null int64\n",
      "FINANZ_SPARER            891221 non-null int64\n",
      "FINANZ_VORSORGER         891221 non-null int64\n",
      "FINANZ_ANLEGER           891221 non-null int64\n",
      "FINANZ_UNAUFFAELLIGER    891221 non-null int64\n",
      "FINANZ_HAUSBAUER         891221 non-null int64\n",
      "FINANZTYP                891221 non-null int64\n",
      "GEBURTSJAHR              891221 non-null int64\n",
      "GFK_URLAUBERTYP          886367 non-null float64\n",
      "GREEN_AVANTGARDE         891221 non-null int64\n",
      "HEALTH_TYP               891221 non-null int64\n",
      "LP_LEBENSPHASE_FEIN      886367 non-null float64\n",
      "LP_LEBENSPHASE_GROB      886367 non-null float64\n",
      "LP_FAMILIE_FEIN          886367 non-null float64\n",
      "LP_FAMILIE_GROB          886367 non-null float64\n",
      "LP_STATUS_FEIN           886367 non-null float64\n",
      "LP_STATUS_GROB           886367 non-null float64\n",
      "NATIONALITAET_KZ         891221 non-null int64\n",
      "PRAEGENDE_JUGENDJAHRE    891221 non-null int64\n",
      "RETOURTYP_BK_S           886367 non-null float64\n",
      "SEMIO_SOZ                891221 non-null int64\n",
      "SEMIO_FAM                891221 non-null int64\n",
      "SEMIO_REL                891221 non-null int64\n",
      "SEMIO_MAT                891221 non-null int64\n",
      "SEMIO_VERT               891221 non-null int64\n",
      "SEMIO_LUST               891221 non-null int64\n",
      "SEMIO_ERL                891221 non-null int64\n",
      "SEMIO_KULT               891221 non-null int64\n",
      "SEMIO_RAT                891221 non-null int64\n",
      "SEMIO_KRIT               891221 non-null int64\n",
      "SEMIO_DOM                891221 non-null int64\n",
      "SEMIO_KAEM               891221 non-null int64\n",
      "SEMIO_PFLICHT            891221 non-null int64\n",
      "SEMIO_TRADV              891221 non-null int64\n",
      "SHOPPER_TYP              891221 non-null int64\n",
      "SOHO_KZ                  817722 non-null float64\n",
      "TITEL_KZ                 817722 non-null float64\n",
      "VERS_TYP                 891221 non-null int64\n",
      "ZABEOTYP                 891221 non-null int64\n",
      "ALTER_HH                 817722 non-null float64\n",
      "ANZ_PERSONEN             817722 non-null float64\n",
      "ANZ_TITEL                817722 non-null float64\n",
      "HH_EINKOMMEN_SCORE       872873 non-null float64\n",
      "KK_KUNDENTYP             306609 non-null float64\n",
      "W_KEIT_KIND_HH           783619 non-null float64\n",
      "WOHNDAUER_2008           817722 non-null float64\n",
      "ANZ_HAUSHALTE_AKTIV      798073 non-null float64\n",
      "ANZ_HH_TITEL             794213 non-null float64\n",
      "GEBAEUDETYP              798073 non-null float64\n",
      "KONSUMNAEHE              817252 non-null float64\n",
      "MIN_GEBAEUDEJAHR         798073 non-null float64\n",
      "OST_WEST_KZ              798073 non-null object\n",
      "WOHNLAGE                 798073 non-null float64\n",
      "CAMEO_DEUG_2015          792242 non-null object\n",
      "CAMEO_DEU_2015           792242 non-null object\n",
      "CAMEO_INTL_2015          792242 non-null object\n",
      "KBA05_ANTG1              757897 non-null float64\n",
      "KBA05_ANTG2              757897 non-null float64\n",
      "KBA05_ANTG3              757897 non-null float64\n",
      "KBA05_ANTG4              757897 non-null float64\n",
      "KBA05_BAUMAX             757897 non-null float64\n",
      "KBA05_GBZ                757897 non-null float64\n",
      "BALLRAUM                 797481 non-null float64\n",
      "EWDICHTE                 797481 non-null float64\n",
      "INNENSTADT               797481 non-null float64\n",
      "GEBAEUDETYP_RASTER       798066 non-null float64\n",
      "KKK                      770025 non-null float64\n",
      "MOBI_REGIO               757897 non-null float64\n",
      "ONLINE_AFFINITAET        886367 non-null float64\n",
      "REGIOTYP                 770025 non-null float64\n",
      "KBA13_ANZAHL_PKW         785421 non-null float64\n",
      "PLZ8_ANTG1               774706 non-null float64\n",
      "PLZ8_ANTG2               774706 non-null float64\n",
      "PLZ8_ANTG3               774706 non-null float64\n",
      "PLZ8_ANTG4               774706 non-null float64\n",
      "PLZ8_BAUMAX              774706 non-null float64\n",
      "PLZ8_HHZ                 774706 non-null float64\n",
      "PLZ8_GBZ                 774706 non-null float64\n",
      "ARBEIT                   794005 non-null float64\n",
      "ORTSGR_KLS9              794005 non-null float64\n",
      "RELAT_AB                 794005 non-null float64\n",
      "dtypes: float64(49), int64(32), object(4)\n",
      "memory usage: 578.0+ MB\n"
     ]
    }
   ],
   "source": [
    "azdias.info()"
   ]
  },
  {
   "cell_type": "code",
   "execution_count": 5,
   "metadata": {},
   "outputs": [
    {
     "name": "stdout",
     "output_type": "stream",
     "text": [
      "Number of rows and columns in feature summary: (85, 4)\n"
     ]
    },
    {
     "data": {
      "text/html": [
       "<div>\n",
       "<style scoped>\n",
       "    .dataframe tbody tr th:only-of-type {\n",
       "        vertical-align: middle;\n",
       "    }\n",
       "\n",
       "    .dataframe tbody tr th {\n",
       "        vertical-align: top;\n",
       "    }\n",
       "\n",
       "    .dataframe thead th {\n",
       "        text-align: right;\n",
       "    }\n",
       "</style>\n",
       "<table border=\"1\" class=\"dataframe\">\n",
       "  <thead>\n",
       "    <tr style=\"text-align: right;\">\n",
       "      <th></th>\n",
       "      <th>attribute</th>\n",
       "      <th>information_level</th>\n",
       "      <th>type</th>\n",
       "      <th>missing_or_unknown</th>\n",
       "    </tr>\n",
       "  </thead>\n",
       "  <tbody>\n",
       "    <tr>\n",
       "      <th>0</th>\n",
       "      <td>AGER_TYP</td>\n",
       "      <td>person</td>\n",
       "      <td>categorical</td>\n",
       "      <td>[-1,0]</td>\n",
       "    </tr>\n",
       "    <tr>\n",
       "      <th>1</th>\n",
       "      <td>ALTERSKATEGORIE_GROB</td>\n",
       "      <td>person</td>\n",
       "      <td>ordinal</td>\n",
       "      <td>[-1,0,9]</td>\n",
       "    </tr>\n",
       "    <tr>\n",
       "      <th>2</th>\n",
       "      <td>ANREDE_KZ</td>\n",
       "      <td>person</td>\n",
       "      <td>categorical</td>\n",
       "      <td>[-1,0]</td>\n",
       "    </tr>\n",
       "    <tr>\n",
       "      <th>3</th>\n",
       "      <td>CJT_GESAMTTYP</td>\n",
       "      <td>person</td>\n",
       "      <td>categorical</td>\n",
       "      <td>[0]</td>\n",
       "    </tr>\n",
       "    <tr>\n",
       "      <th>4</th>\n",
       "      <td>FINANZ_MINIMALIST</td>\n",
       "      <td>person</td>\n",
       "      <td>ordinal</td>\n",
       "      <td>[-1]</td>\n",
       "    </tr>\n",
       "  </tbody>\n",
       "</table>\n",
       "</div>"
      ],
      "text/plain": [
       "              attribute information_level         type missing_or_unknown\n",
       "0              AGER_TYP            person  categorical             [-1,0]\n",
       "1  ALTERSKATEGORIE_GROB            person      ordinal           [-1,0,9]\n",
       "2             ANREDE_KZ            person  categorical             [-1,0]\n",
       "3         CJT_GESAMTTYP            person  categorical                [0]\n",
       "4     FINANZ_MINIMALIST            person      ordinal               [-1]"
      ]
     },
     "execution_count": 5,
     "metadata": {},
     "output_type": "execute_result"
    }
   ],
   "source": [
    "print('Number of rows and columns in feature summary: {}'.format(feat_info.shape))\n",
    "feat_info.head()"
   ]
  },
  {
   "cell_type": "markdown",
   "metadata": {},
   "source": [
    "## Step 1: Preprocessing <a name=\"step1\"></a>\n",
    "[(return to TOC)](#toc)\n",
    "\n",
    "### Step 1.1: Assess Missing Data  <a name=\"step11\"></a>\n",
    "\n",
    "The feature summary file contains a summary of properties for each demographics data column. You will use this file to help you make cleaning decisions during this stage of the project. First of all, you should assess the demographics data in terms of missing data. Pay attention to the following points as you perform your analysis, and take notes on what you observe. Make sure that you fill in the **Discussion** cell with your findings and decisions at the end of each step that has one!\n",
    "\n",
    "#### Step 1.1.1: Convert Missing Value Codes to NaNs <a name=\"step111\"></a>\n",
    "The fourth column of the feature attributes summary (loaded in above as `feat_info`) documents the codes from the data dictionary that indicate missing or unknown data. While the file encodes this as a list (e.g. `[-1,0]`), this will get read in as a string object. You'll need to do a little bit of parsing to make use of it to identify and clean the data. Convert data that matches a 'missing' or 'unknown' value code into a numpy NaN value. You might want to see how much data takes on a 'missing' or 'unknown' code, and how much data is naturally missing, as a point of interest."
   ]
  },
  {
   "cell_type": "code",
   "execution_count": 6,
   "metadata": {},
   "outputs": [],
   "source": [
    "# creating copy of original for missing conversion to NaN\n",
    "azdias_nan = azdias"
   ]
  },
  {
   "cell_type": "code",
   "execution_count": 7,
   "metadata": {},
   "outputs": [
    {
     "name": "stdout",
     "output_type": "stream",
     "text": [
      "Total naturally NaN datapoints: 4896838\n"
     ]
    }
   ],
   "source": [
    "# Naturally missing data\n",
    "naturally_nan = azdias.isna().sum().sum()\n",
    "print('Total naturally NaN datapoints: {}'.format(naturally_nan))"
   ]
  },
  {
   "cell_type": "code",
   "execution_count": 8,
   "metadata": {},
   "outputs": [
    {
     "data": {
      "text/plain": [
       "array(['[-1,0]', '[-1,0,9]', '[0]', '[-1]', '[]', '[-1,9]', '[-1,X]',\n",
       "       '[XX]', '[-1,XX]'], dtype=object)"
      ]
     },
     "execution_count": 8,
     "metadata": {},
     "output_type": "execute_result"
    }
   ],
   "source": [
    "feat_info.missing_or_unknown.unique()"
   ]
  },
  {
   "cell_type": "markdown",
   "metadata": {},
   "source": [
    "According to our Data Dictionary, all 'X', 'XX', and '-1' values equal 'Unknown', however 1s and 9s are sometimes valid data. In this case, we'll iterate through each column and replace values based on those specified in the feat_info dataset."
   ]
  },
  {
   "cell_type": "code",
   "execution_count": 9,
   "metadata": {},
   "outputs": [],
   "source": [
    "# Create a function to identify missing or unknown data values and convert them to NaNs\n",
    "# This function will allow us to process this same conversion on the general dataset later \n",
    "def convert_unknown_to_nan(dataset):\n",
    "\n",
    "    for i in feat_info.index:\n",
    "        fi_missing = feat_info.loc[i, 'missing_or_unknown']\n",
    "        fi_missing = fi_missing.strip('[]').split(',')\n",
    "        for value in range(len(fi_missing)):\n",
    "            try:\n",
    "                fi_missing[value] = int(fi_missing[value])\n",
    "            except:\n",
    "                continue\n",
    "        dataset.loc[:,(feat_info.loc[i, 'attribute'])].replace(fi_missing, np.nan, inplace=True)"
   ]
  },
  {
   "cell_type": "code",
   "execution_count": 10,
   "metadata": {},
   "outputs": [],
   "source": [
    "# Run function on our customer dataset to replace unknowns/missing with NaNs\n",
    "convert_unknown_to_nan(azdias_nan)"
   ]
  },
  {
   "cell_type": "code",
   "execution_count": 11,
   "metadata": {},
   "outputs": [
    {
     "name": "stdout",
     "output_type": "stream",
     "text": [
      "All updated NaN datapoints: 8373929\n",
      "This is 3477091 new NaN values than the naturally occurring NaNs we started with.\n"
     ]
    }
   ],
   "source": [
    "# Updated data with newly added NaN updates\n",
    "updated_nan = azdias_nan.isna().sum().sum()\n",
    "print('All updated NaN datapoints: {}'.format(updated_nan))\n",
    "print('This is {} new NaN values than the naturally occurring NaNs we started with.'.format(updated_nan-naturally_nan))"
   ]
  },
  {
   "cell_type": "markdown",
   "metadata": {},
   "source": [
    "#### Step 1.1.2: Assess Missing Data in Each Column <a name=\"step112\"></a>\n",
    "\n",
    "How much missing data is present in each column? There are a few columns that are outliers in terms of the proportion of values that are missing. You will want to use matplotlib's [`hist()`](https://matplotlib.org/api/_as_gen/matplotlib.pyplot.hist.html) function to visualize the distribution of missing value counts to find these columns. Identify and document these columns. While some of these columns might have justifications for keeping or re-encoding the data, for this project you should just remove them from the dataframe. (Feel free to make remarks about these outlier columns in the discussion, however!)\n",
    "\n",
    "For the remaining features, are there any patterns in which columns have, or share, missing data?"
   ]
  },
  {
   "cell_type": "code",
   "execution_count": 12,
   "metadata": {},
   "outputs": [
    {
     "name": "stdout",
     "output_type": "stream",
     "text": [
      "AGER_TYP                 76.95543529607134\n",
      "GEBURTSJAHR              44.02028228688507\n",
      "TITEL_KZ                 99.75763587258379\n",
      "ALTER_HH                 34.81369940789097\n",
      "KK_KUNDENTYP             65.59674873011295\n",
      "KBA05_BAUMAX             53.468668265222654\n"
     ]
    }
   ],
   "source": [
    "# Perform an assessment of how much missing data there is in each column of the\n",
    "# dataset.\n",
    "\n",
    "col_nans = (azdias_nan.isna().sum()/azdias_nan.shape[0])*100\n",
    "for i, j in col_nans.iteritems():\n",
    "    if j > 20:\n",
    "        print(\"{:25s}{}\".format(i, j))"
   ]
  },
  {
   "cell_type": "code",
   "execution_count": 13,
   "metadata": {},
   "outputs": [
    {
     "data": {
      "image/png": "[encoded data removed]",
      "text/plain": [
       "<matplotlib.figure.Figure at 0x7f51011e6ac8>"
      ]
     },
     "metadata": {
      "needs_background": "light"
     },
     "output_type": "display_data"
    }
   ],
   "source": [
    "# Investigate patterns in the amount of missing data in each column.\n",
    "plt.hist([col_nans], bins = 85)\n",
    "plt.title(\"Chart of NaN Percentage per Column\")\n",
    "plt.xlabel(\"NaN Percentage in Column\")\n",
    "plt.ylabel(\"Number of Columns with NaNs\");"
   ]
  },
  {
   "cell_type": "markdown",
   "metadata": {},
   "source": [
    "From the above info we can see that over 30 of our columns/features have no NaNs, and one has nearly 100% NaNs - and we can see that one in the list above (TITEL_KZ: 99.76%). There are also several other columns with 30% or more of their values set to NaN. Let's remove any columns that will end up being unhelpful to our ML process."
   ]
  },
  {
   "cell_type": "code",
   "execution_count": 14,
   "metadata": {},
   "outputs": [
    {
     "name": "stdout",
     "output_type": "stream",
     "text": [
      "(891221, 79)\n"
     ]
    }
   ],
   "source": [
    "# Remove the outlier columns from the dataset. (You'll perform other data\n",
    "# engineering tasks such as re-encoding and imputation later.)\n",
    "del_columns = []\n",
    "for column in azdias_nan:\n",
    "    if ((azdias_nan[column].isna().sum()/azdias_nan.shape[0])*100) > 20:\n",
    "        del_columns.append(column)\n",
    "\n",
    "azdias_nan = azdias_nan.drop(del_columns, axis=1)\n",
    "\n",
    "print(azdias_nan.shape)"
   ]
  },
  {
   "cell_type": "code",
   "execution_count": 15,
   "metadata": {},
   "outputs": [
    {
     "name": "stdout",
     "output_type": "stream",
     "text": [
      "  attribute information_level         type\n",
      "0  AGER_TYP            person  categorical\n",
      "-----\n",
      "      attribute information_level     type\n",
      "11  GEBURTSJAHR            person  numeric\n",
      "-----\n",
      "   attribute information_level         type\n",
      "40  TITEL_KZ            person  categorical\n",
      "-----\n",
      "   attribute information_level      type\n",
      "43  ALTER_HH         household  interval\n",
      "-----\n",
      "       attribute information_level         type\n",
      "47  KK_KUNDENTYP         household  categorical\n",
      "-----\n",
      "       attribute information_level   type\n",
      "64  KBA05_BAUMAX     microcell_rr3  mixed\n",
      "-----\n"
     ]
    }
   ],
   "source": [
    "# List out the removed column titles for observation\n",
    "for colname in del_columns:\n",
    "    print(feat_info[feat_info['attribute'] == colname][['attribute', 'information_level', 'type']])\n",
    "    print('-----')"
   ]
  },
  {
   "cell_type": "markdown",
   "metadata": {},
   "source": [
    "### Discussion 1.1.2: Assess Missing Data in Each Column <a name=\"disc112\"></a>\n",
    "\n",
    "**The list above displays the 6 columns I removed from the dataset. Out of all 85 original columns, these 6 had 25% or more of their values set to NaN, which seemed like a large proportion. According to our Data Dictionary, the these columns head the following info:**\n",
    "- Best-ager typology (type of elderly person category)\n",
    "- Birth year\n",
    "- Academic title (Dr, Prof, other)\n",
    "- Birthdate (range) of head of household\n",
    "- Consumer pattern over last 12 months (regular, ative, inactive, etc)\n",
    "- Most common building type within the microcell (neighborhood info)**\n",
    "\n",
    "**Several of these categories are personal age-related data. It's possible that people were less likely to share this information for security purposes.** \n",
    "\n",
    "**The non-age related columns seem to me to be unrelated and less likely to have any significant impact on the upcoming analysis we'll be doing.**"
   ]
  },
  {
   "cell_type": "markdown",
   "metadata": {},
   "source": [
    "#### Step 1.1.3: Assess Missing Data in Each Row <a name=\"step113\"></a>\n",
    "\n",
    "Now, you'll perform a similar assessment for the rows of the dataset. How much data is missing in each row? As with the columns, you should see some groups of points that have a very different numbers of missing values. Divide the data into two subsets: one for data points that are above some threshold for missing values, and a second subset for points below that threshold.\n",
    "\n",
    "In order to know what to do with the outlier rows, we should see if the distribution of data values on columns that are not missing data (or are missing very little data) are similar or different between the two groups. Select at least five of these columns and compare the distribution of values.\n",
    "- You can use seaborn's [`countplot()`](https://seaborn.pydata.org/generated/seaborn.countplot.html) function to create a bar chart of code frequencies and matplotlib's [`subplot()`](https://matplotlib.org/api/_as_gen/matplotlib.pyplot.subplot.html) function to put bar charts for the two subplots side by side.\n",
    "- To reduce repeated code, you might want to write a function that can perform this comparison, taking as one of its arguments a column to be compared.\n",
    "\n",
    "Depending on what you observe in your comparison, this will have implications on how you approach your conclusions later in the analysis. If the distributions of non-missing features look similar between the data with many missing values and the data with few or no missing values, then we could argue that simply dropping those points from the analysis won't present a major issue. On the other hand, if the data with many missing values looks very different from the data with few or no missing values, then we should make a note on those data as special. We'll revisit these data later on. **Either way, you should continue your analysis for now using just the subset of the data with few or no missing values.**"
   ]
  },
  {
   "cell_type": "code",
   "execution_count": 16,
   "metadata": {},
   "outputs": [
    {
     "name": "stdout",
     "output_type": "stream",
     "text": [
      "Stats on the percentage of data missing from each row in the dataset:\n",
      "count    891221.000000\n",
      "mean          7.151764\n",
      "std          16.752768\n",
      "min           0.000000\n",
      "25%           0.000000\n",
      "50%           0.000000\n",
      "75%           3.797468\n",
      "max          62.025316\n",
      "Name: nan_percent, dtype: float64\n"
     ]
    },
    {
     "data": {
      "image/png": "[encoded data removed]",
      "text/plain": [
       "<matplotlib.figure.Figure at 0x7f50d2c77a20>"
      ]
     },
     "metadata": {
      "needs_background": "light"
     },
     "output_type": "display_data"
    }
   ],
   "source": [
    "# How much data is missing in each row of the dataset?\n",
    "azdias_nan['nan_percent'] = azdias_nan.isna().mean(axis=1) * 100\n",
    "print('Stats on the percentage of data missing from each row in the dataset:')\n",
    "print(azdias_nan['nan_percent'].describe())\n",
    "plt.hist(azdias_nan['nan_percent'], bins=63)\n",
    "plt.xlabel('Percent of Missing Values per Row')\n",
    "plt.ylabel('Number of Rows');\n"
   ]
  },
  {
   "cell_type": "markdown",
   "metadata": {},
   "source": [
    "Since we can see the majority of our rows have less than 10% of data missing, we'll split our dataset at the 10% mark to create two subsets."
   ]
  },
  {
   "cell_type": "code",
   "execution_count": 17,
   "metadata": {},
   "outputs": [
    {
     "name": "stdout",
     "output_type": "stream",
     "text": [
      "(747109, 80)\n",
      "(144112, 80)\n"
     ]
    }
   ],
   "source": [
    "# Write code to divide the data into two subsets based on the number of missing\n",
    "# values in each row.\n",
    "\n",
    "azdias_nan_max10 = azdias_nan[azdias_nan['nan_percent'] <= 10]\n",
    "azdias_nan_over10 = azdias_nan[azdias_nan['nan_percent'] > 10]\n",
    "\n",
    "print(azdias_nan_max10.shape)\n",
    "print(azdias_nan_over10.shape)"
   ]
  },
  {
   "cell_type": "code",
   "execution_count": 18,
   "metadata": {},
   "outputs": [
    {
     "data": {
      "text/plain": [
       "['ANREDE_KZ',\n",
       " 'FINANZTYP',\n",
       " 'FINANZ_ANLEGER',\n",
       " 'FINANZ_HAUSBAUER',\n",
       " 'FINANZ_MINIMALIST',\n",
       " 'FINANZ_SPARER',\n",
       " 'FINANZ_UNAUFFAELLIGER',\n",
       " 'FINANZ_VORSORGER',\n",
       " 'GREEN_AVANTGARDE',\n",
       " 'SEMIO_DOM',\n",
       " 'SEMIO_ERL',\n",
       " 'SEMIO_FAM',\n",
       " 'SEMIO_KAEM',\n",
       " 'SEMIO_KRIT',\n",
       " 'SEMIO_KULT',\n",
       " 'SEMIO_LUST',\n",
       " 'SEMIO_MAT',\n",
       " 'SEMIO_PFLICHT',\n",
       " 'SEMIO_RAT',\n",
       " 'SEMIO_REL',\n",
       " 'SEMIO_SOZ',\n",
       " 'SEMIO_TRADV',\n",
       " 'SEMIO_VERT',\n",
       " 'ZABEOTYP',\n",
       " 'nan_percent']"
      ]
     },
     "execution_count": 18,
     "metadata": {},
     "output_type": "execute_result"
    }
   ],
   "source": [
    "# Compare the distribution of values for at least five columns where there are\n",
    "# no or few missing values, between the two subsets.\n",
    "max10_cols = azdias_nan_max10.dropna(axis=1).columns\n",
    "over10_cols = azdias_nan_over10.dropna(axis=1).columns\n",
    "\n",
    "no_nan_cols = list(set(max10_cols).intersection(over10_cols))\n",
    "sorted(no_nan_cols)"
   ]
  },
  {
   "cell_type": "code",
   "execution_count": 19,
   "metadata": {},
   "outputs": [],
   "source": [
    "def graph_value_dist(column):\n",
    "    fig, (ax1, ax2) = plt.subplots(1,2, sharey=True)\n",
    "    ax1.set_title('Data w/NaNs 10% or less')\n",
    "    ax2.set_title('Data w/NaNs over 10%')\n",
    "    sns.countplot(azdias_nan_max10[column], ax=ax1)\n",
    "    sns.countplot(azdias_nan_over10[column], ax=ax2)\n",
    "    plt.show()"
   ]
  },
  {
   "cell_type": "code",
   "execution_count": 20,
   "metadata": {
    "scrolled": false
   },
   "outputs": [
    {
     "data": {
      "image/png": "[encoded data removed]",
      "text/plain": [
       "<matplotlib.figure.Figure at 0x7f50d2bb5668>"
      ]
     },
     "metadata": {
      "needs_background": "light"
     },
     "output_type": "display_data"
    },
    {
     "data": {
      "image/png": "[encoded data removed]",
      "text/plain": [
       "<matplotlib.figure.Figure at 0x7f50d2ac8470>"
      ]
     },
     "metadata": {
      "needs_background": "light"
     },
     "output_type": "display_data"
    },
    {
     "data": {
      "image/png": "[encoded data removed]",
      "text/plain": [
       "<matplotlib.figure.Figure at 0x7f50d2a34e48>"
      ]
     },
     "metadata": {
      "needs_background": "light"
     },
     "output_type": "display_data"
    },
    {
     "data": {
      "image/png": "[encoded data removed]",
      "text/plain": [
       "<matplotlib.figure.Figure at 0x7f50d28abef0>"
      ]
     },
     "metadata": {
      "needs_background": "light"
     },
     "output_type": "display_data"
    },
    {
     "data": {
      "image/png": "[encoded data removed]",
      "text/plain": [
       "<matplotlib.figure.Figure at 0x7f50d278e198>"
      ]
     },
     "metadata": {
      "needs_background": "light"
     },
     "output_type": "display_data"
    },
    {
     "data": {
      "image/png": "[encoded data removed]",
      "text/plain": [
       "<matplotlib.figure.Figure at 0x7f50d26e4f60>"
      ]
     },
     "metadata": {
      "needs_background": "light"
     },
     "output_type": "display_data"
    },
    {
     "data": {
      "image/png": "[encoded data removed]",
      "text/plain": [
       "<matplotlib.figure.Figure at 0x7f50d2a11780>"
      ]
     },
     "metadata": {
      "needs_background": "light"
     },
     "output_type": "display_data"
    },
    {
     "data": {
      "image/png": "[encoded data removed]",
      "text/plain": [
       "<matplotlib.figure.Figure at 0x7f50d2663a58>"
      ]
     },
     "metadata": {
      "needs_background": "light"
     },
     "output_type": "display_data"
    },
    {
     "data": {
      "image/png": "[encoded data removed]",
      "text/plain": [
       "<matplotlib.figure.Figure at 0x7f50d26561d0>"
      ]
     },
     "metadata": {
      "needs_background": "light"
     },
     "output_type": "display_data"
    },
    {
     "data": {
      "image/png": "[encoded data removed]",
      "text/plain": [
       "<matplotlib.figure.Figure at 0x7f50d2c453c8>"
      ]
     },
     "metadata": {
      "needs_background": "light"
     },
     "output_type": "display_data"
    },
    {
     "data": {
      "image/png": "[encoded data removed]",
      "text/plain": [
       "<matplotlib.figure.Figure at 0x7f50d26daf98>"
      ]
     },
     "metadata": {
      "needs_background": "light"
     },
     "output_type": "display_data"
    },
    {
     "data": {
      "image/png": "[encoded data removed]",
      "text/plain": [
       "<matplotlib.figure.Figure at 0x7f50d26883c8>"
      ]
     },
     "metadata": {
      "needs_background": "light"
     },
     "output_type": "display_data"
    },
    {
     "data": {
      "image/png": "[encoded data removed]",
      "text/plain": [
       "<matplotlib.figure.Figure at 0x7f50d27309b0>"
      ]
     },
     "metadata": {
      "needs_background": "light"
     },
     "output_type": "display_data"
    },
    {
     "data": {
      "image/png": "[encoded data removed]",
      "text/plain": [
       "<matplotlib.figure.Figure at 0x7f50d2c40630>"
      ]
     },
     "metadata": {
      "needs_background": "light"
     },
     "output_type": "display_data"
    },
    {
     "data": {
      "image/png": "[encoded data removed]",
      "text/plain": [
       "<matplotlib.figure.Figure at 0x7f50d27df4a8>"
      ]
     },
     "metadata": {
      "needs_background": "light"
     },
     "output_type": "display_data"
    },
    {
     "data": {
      "image/png": "[encoded data removed]",
      "text/plain": [
       "<matplotlib.figure.Figure at 0x7f50d2905eb8>"
      ]
     },
     "metadata": {
      "needs_background": "light"
     },
     "output_type": "display_data"
    },
    {
     "data": {
      "image/png": "[encoded data removed]",
      "text/plain": [
       "<matplotlib.figure.Figure at 0x7f50d2aa8a90>"
      ]
     },
     "metadata": {
      "needs_background": "light"
     },
     "output_type": "display_data"
    },
    {
     "data": {
      "image/png": "[encoded data removed]",
      "text/plain": [
       "<matplotlib.figure.Figure at 0x7f50d25457b8>"
      ]
     },
     "metadata": {
      "needs_background": "light"
     },
     "output_type": "display_data"
    },
    {
     "data": {
      "image/png": "[encoded data removed]",
      "text/plain": [
       "<matplotlib.figure.Figure at 0x7f50d24cf780>"
      ]
     },
     "metadata": {
      "needs_background": "light"
     },
     "output_type": "display_data"
    },
    {
     "data": {
      "image/png": "[encoded data removed]",
      "text/plain": [
       "<matplotlib.figure.Figure at 0x7f50d2c45710>"
      ]
     },
     "metadata": {
      "needs_background": "light"
     },
     "output_type": "display_data"
    },
    {
     "data": {
      "image/png": "[encoded data removed]",
      "text/plain": [
       "<matplotlib.figure.Figure at 0x7f50d28ec588>"
      ]
     },
     "metadata": {
      "needs_background": "light"
     },
     "output_type": "display_data"
    },
    {
     "data": {
      "image/png": "[encoded data removed]",
      "text/plain": [
       "<matplotlib.figure.Figure at 0x7f50d2bb8470>"
      ]
     },
     "metadata": {
      "needs_background": "light"
     },
     "output_type": "display_data"
    },
    {
     "data": {
      "image/png": "[encoded data removed]",
      "text/plain": [
       "<matplotlib.figure.Figure at 0x7f50d2bfd5f8>"
      ]
     },
     "metadata": {
      "needs_background": "light"
     },
     "output_type": "display_data"
    },
    {
     "data": {
      "image/png": "[encoded data removed]",
      "text/plain": [
       "<matplotlib.figure.Figure at 0x7f50d2c740b8>"
      ]
     },
     "metadata": {
      "needs_background": "light"
     },
     "output_type": "display_data"
    },
    {
     "data": {
      "image/png": "[encoded data removed]",
      "text/plain": [
       "<matplotlib.figure.Figure at 0x7f50d2cdc5c0>"
      ]
     },
     "metadata": {
      "needs_background": "light"
     },
     "output_type": "display_data"
    }
   ],
   "source": [
    "for col in no_nan_cols:\n",
    "    graph_value_dist(col)"
   ]
  },
  {
   "cell_type": "code",
   "execution_count": 21,
   "metadata": {},
   "outputs": [],
   "source": [
    "# Remove the nan_percent column, no longer needed\n",
    "azdias_nan_max10 = azdias_nan_max10.drop('nan_percent', axis=1)"
   ]
  },
  {
   "cell_type": "markdown",
   "metadata": {},
   "source": [
    "### Discussion 1.1.3: Assess Missing Data in Each Row <a name=\"disc113\"></a>\n",
    "\n",
    "**As shown above in Step 1.1.3, we could see the majority of our rows have less than 10% of data missing, so we split our data into two subsets at the 10% mark, where all rows with more than 10% of values set to NaN were put in their own subset. The subset with the least NaN values still has 747,109 rows, with the 144,112 rows moved into the subset with higher NaN value counts per row.**\n",
    "\n",
    "**I then ran subplots of bar charts for each of the columns that had 0 NaN values between both of our subsets. Aside from the Gender column (labeled ANREDE_KZ), the distributions of each of these columns between the two sets appear to be widely different. This being the case, it does not seem wise to completely drop these rows from our analysis altogether.** \n",
    "\n",
    ">A side note from my visual observations of these charts is that many of the general distributions appear *almost* similar, with the exception of a single value that spikes in each of the charts for a single subset. Though outside of the scope of my current focus on this project, this could be something to look into further, to determine if these individual spiking rows are a single group of rows with some form of mass duplication, a very specific \"matching\" set within the smaller subset, or if these spikes are completely random across all the rows.\n",
    "\n",
    "**For now, we will proceed by analyzing only the subset with the least NaN values, but we will maintain a copy of the other subset for future reference.**"
   ]
  },
  {
   "cell_type": "markdown",
   "metadata": {},
   "source": [
    "### Step 1.2: Select and Re-Encode Features <a name=\"step12\"></a>\n",
    "\n",
    "Checking for missing data isn't the only way in which you can prepare a dataset for analysis. Since the unsupervised learning techniques to be used will only work on data that is encoded numerically, you need to make a few encoding changes or additional assumptions to be able to make progress. In addition, while almost all of the values in the dataset are encoded using numbers, not all of them represent numeric values. Check the third column of the feature summary (`feat_info`) for a summary of types of measurement.\n",
    "- For numeric and interval data, these features can be kept without changes.\n",
    "- Most of the variables in the dataset are ordinal in nature. While ordinal values may technically be non-linear in spacing, make the simplifying assumption that the ordinal variables can be treated as being interval in nature (that is, kept without any changes).\n",
    "- Special handling may be necessary for the remaining two variable types: categorical, and 'mixed'.\n",
    "\n",
    "In the first two parts of this sub-step, you will perform an investigation of the categorical and mixed-type features and make a decision on each of them, whether you will keep, drop, or re-encode each. Then, in the last part, you will create a new data frame with only the selected and engineered columns.\n",
    "\n",
    "Data wrangling is often the trickiest part of the data analysis process, and there's a lot of it to be done here. But stick with it: once you're done with this step, you'll be ready to get to the machine learning parts of the project!"
   ]
  },
  {
   "cell_type": "code",
   "execution_count": 22,
   "metadata": {},
   "outputs": [
    {
     "data": {
      "text/plain": [
       "ordinal        49\n",
       "categorical    21\n",
       "mixed           7\n",
       "numeric         7\n",
       "interval        1\n",
       "Name: type, dtype: int64"
      ]
     },
     "execution_count": 22,
     "metadata": {},
     "output_type": "execute_result"
    }
   ],
   "source": [
    "# How many features are there of each data type?\n",
    "feat_info['type'].value_counts()"
   ]
  },
  {
   "cell_type": "markdown",
   "metadata": {},
   "source": [
    "#### Step 1.2.1: Re-Encode Categorical Features <a name=\"step121\"></a>\n",
    "\n",
    "For categorical data, you would ordinarily need to encode the levels as dummy variables. Depending on the number of categories, perform one of the following:\n",
    "- For binary (two-level) categoricals that take numeric values, you can keep them without needing to do anything.\n",
    "- There is one binary variable that takes on non-numeric values. For this one, you need to re-encode the values as numbers or create a dummy variable.\n",
    "- For multi-level categoricals (three or more values), you can choose to encode the values using multiple dummy variables (e.g. via [OneHotEncoder](http://scikit-learn.org/stable/modules/generated/sklearn.preprocessing.OneHotEncoder.html)), or (to keep things straightforward) just drop them from the analysis. As always, document your choices in the Discussion section."
   ]
  },
  {
   "cell_type": "code",
   "execution_count": 23,
   "metadata": {},
   "outputs": [
    {
     "data": {
      "text/plain": [
       "0             AGER_TYP\n",
       "2            ANREDE_KZ\n",
       "3        CJT_GESAMTTYP\n",
       "10           FINANZTYP\n",
       "12     GFK_URLAUBERTYP\n",
       "13    GREEN_AVANTGARDE\n",
       "17     LP_FAMILIE_FEIN\n",
       "18     LP_FAMILIE_GROB\n",
       "19      LP_STATUS_FEIN\n",
       "20      LP_STATUS_GROB\n",
       "21    NATIONALITAET_KZ\n",
       "38         SHOPPER_TYP\n",
       "39             SOHO_KZ\n",
       "40            TITEL_KZ\n",
       "41            VERS_TYP\n",
       "42            ZABEOTYP\n",
       "47        KK_KUNDENTYP\n",
       "52         GEBAEUDETYP\n",
       "55         OST_WEST_KZ\n",
       "57     CAMEO_DEUG_2015\n",
       "58      CAMEO_DEU_2015\n",
       "Name: attribute, dtype: object"
      ]
     },
     "execution_count": 23,
     "metadata": {},
     "output_type": "execute_result"
    }
   ],
   "source": [
    "# Assess categorical variables: which are binary, which are multi-level, and\n",
    "# which one needs to be re-encoded?\n",
    "cat_cols = feat_info[feat_info['type']=='categorical']['attribute']\n",
    "cat_cols"
   ]
  },
  {
   "cell_type": "code",
   "execution_count": 24,
   "metadata": {},
   "outputs": [],
   "source": [
    "# Create copy of current dataset for save point\n",
    "azdias_lownan = azdias_nan_max10\n",
    "# Create list of columns after NaN drops\n",
    "azdias_lowna_cols = azdias_lownan.columns"
   ]
  },
  {
   "cell_type": "code",
   "execution_count": 25,
   "metadata": {},
   "outputs": [],
   "source": [
    "# Group categorical variable(s) for evaluation\n",
    "cat_cols_binary = []\n",
    "cat_cols_multilev = []\n",
    "for col in cat_cols:\n",
    "    if col in azdias_lowna_cols:\n",
    "        if (azdias_lownan[col].unique().shape[0] == 2):\n",
    "            cat_cols_binary.append(col)\n",
    "        elif (azdias_lownan[col].unique().shape[0] > 2):\n",
    "            cat_cols_multilev.append(col)\n"
   ]
  },
  {
   "cell_type": "code",
   "execution_count": 26,
   "metadata": {},
   "outputs": [
    {
     "data": {
      "text/plain": [
       "['ANREDE_KZ', 'GREEN_AVANTGARDE', 'SOHO_KZ', 'OST_WEST_KZ']"
      ]
     },
     "execution_count": 26,
     "metadata": {},
     "output_type": "execute_result"
    }
   ],
   "source": [
    "cat_cols_binary"
   ]
  },
  {
   "cell_type": "code",
   "execution_count": 27,
   "metadata": {},
   "outputs": [
    {
     "name": "stdout",
     "output_type": "stream",
     "text": [
      "ANREDE_KZ values: [2 1]\n",
      "GREEN_AVANTGARDE values: [0 1]\n",
      "SOHO_KZ values: [ 1.  0.]\n",
      "OST_WEST_KZ values: ['W' 'O']\n"
     ]
    }
   ],
   "source": [
    "# Find the unique values for each of the binary cols\n",
    "for item in cat_cols_binary:\n",
    "    print(item, \"values:\", azdias_lownan[item].unique())"
   ]
  },
  {
   "cell_type": "markdown",
   "metadata": {},
   "source": [
    "#### We can see that OST_WEST_KZ is a binary column, but with strings instead of numeric values. Let's re-encode that to be a numeric binary column."
   ]
  },
  {
   "cell_type": "code",
   "execution_count": 28,
   "metadata": {},
   "outputs": [
    {
     "name": "stdout",
     "output_type": "stream",
     "text": [
      "OST_WEST_KZ new values: [1 0]\n"
     ]
    }
   ],
   "source": [
    "# Re-encode binary value for OST_WEST_KZ\n",
    "azdias_lownan = azdias_lownan.replace({'OST_WEST_KZ' : {'W': 1, 'O': 0}})\n",
    "print(\"OST_WEST_KZ new values:\", azdias_lownan['OST_WEST_KZ'].unique())"
   ]
  },
  {
   "cell_type": "markdown",
   "metadata": {},
   "source": [
    "#### Now that the binary values are all numeric, we can move on to the multi-level category columns."
   ]
  },
  {
   "cell_type": "code",
   "execution_count": 29,
   "metadata": {},
   "outputs": [
    {
     "name": "stdout",
     "output_type": "stream",
     "text": [
      "CJT_GESAMTTYP values: 6\n",
      "FINANZTYP values: 6\n",
      "GFK_URLAUBERTYP values: 12\n",
      "LP_FAMILIE_FEIN values: 11\n",
      "LP_FAMILIE_GROB values: 5\n",
      "LP_STATUS_FEIN values: 10\n",
      "LP_STATUS_GROB values: 5\n",
      "NATIONALITAET_KZ values: 3\n",
      "SHOPPER_TYP values: 4\n",
      "VERS_TYP values: 2\n",
      "ZABEOTYP values: 6\n",
      "GEBAEUDETYP values: 7\n",
      "CAMEO_DEUG_2015 values: 9\n",
      "CAMEO_DEU_2015 values: 44\n"
     ]
    }
   ],
   "source": [
    "# Find the unique values for each of the multi-level cols\n",
    "for item in cat_cols_multilev:\n",
    "    print(item, \"values:\", azdias_lownan[item].nunique())"
   ]
  },
  {
   "cell_type": "markdown",
   "metadata": {},
   "source": [
    "#### We have several multi-level categories that have a large number of unique values. If we ran pd.get_dummies on all of this, we'd be massively increasing the dimensionality of our dataset, which doesn't seem like a great idea. Let's analyze some of these columns to make a judgement call on whether we can drop them before re-encoding them.\n",
    "\n",
    "Those with the highest value counts with their Data Dictionary translations are:\n",
    "\n",
    "- CAMEO_DEU_2015 values: 44\n",
    "    - Wealth / Life Stage Typology, detailed scale\n",
    "- GFK_URLAUBERTYP values: 12\n",
    "    - Vacation Habits\n",
    "- LP_FAMILIE_FEIN values: 11\n",
    "    - Family Type\n",
    "- LP_STATUS_FEIN values: 10\n",
    "    - Social status, fine scale\n",
    "- CAMEO_DEUG_2015 values: 9\n",
    "    - Wealth / Life Stage Typology, rough scale\n",
    "    \n",
    "Upon review, we'll keep all multi-value lists under 10 values, as the rest of these lists seem a bit excessive."
   ]
  },
  {
   "cell_type": "code",
   "execution_count": 30,
   "metadata": {},
   "outputs": [],
   "source": [
    "# Drop the above chosen columns from the dataset and from the list\n",
    "drop_cols = ['CAMEO_DEU_2015', 'GFK_URLAUBERTYP', 'LP_FAMILIE_FEIN', 'LP_STATUS_FEIN', 'CAMEO_DEUG_2015']\n",
    "for col in drop_cols:\n",
    "    azdias_lownan.drop(col, axis = 1, inplace = True)\n",
    "    cat_cols_multilev.remove(col)"
   ]
  },
  {
   "cell_type": "code",
   "execution_count": 31,
   "metadata": {},
   "outputs": [
    {
     "data": {
      "text/plain": [
       "(747109, 74)"
      ]
     },
     "execution_count": 31,
     "metadata": {},
     "output_type": "execute_result"
    }
   ],
   "source": [
    "azdias_lownan.shape"
   ]
  },
  {
   "cell_type": "code",
   "execution_count": 32,
   "metadata": {},
   "outputs": [
    {
     "data": {
      "text/html": [
       "<div>\n",
       "<style scoped>\n",
       "    .dataframe tbody tr th:only-of-type {\n",
       "        vertical-align: middle;\n",
       "    }\n",
       "\n",
       "    .dataframe tbody tr th {\n",
       "        vertical-align: top;\n",
       "    }\n",
       "\n",
       "    .dataframe thead th {\n",
       "        text-align: right;\n",
       "    }\n",
       "</style>\n",
       "<table border=\"1\" class=\"dataframe\">\n",
       "  <thead>\n",
       "    <tr style=\"text-align: right;\">\n",
       "      <th></th>\n",
       "      <th>ALTERSKATEGORIE_GROB</th>\n",
       "      <th>ANREDE_KZ</th>\n",
       "      <th>FINANZ_MINIMALIST</th>\n",
       "      <th>FINANZ_SPARER</th>\n",
       "      <th>FINANZ_VORSORGER</th>\n",
       "      <th>FINANZ_ANLEGER</th>\n",
       "      <th>FINANZ_UNAUFFAELLIGER</th>\n",
       "      <th>FINANZ_HAUSBAUER</th>\n",
       "      <th>GREEN_AVANTGARDE</th>\n",
       "      <th>HEALTH_TYP</th>\n",
       "      <th>...</th>\n",
       "      <th>ZABEOTYP_4</th>\n",
       "      <th>ZABEOTYP_5</th>\n",
       "      <th>ZABEOTYP_6</th>\n",
       "      <th>GEBAEUDETYP_1.0</th>\n",
       "      <th>GEBAEUDETYP_2.0</th>\n",
       "      <th>GEBAEUDETYP_3.0</th>\n",
       "      <th>GEBAEUDETYP_4.0</th>\n",
       "      <th>GEBAEUDETYP_5.0</th>\n",
       "      <th>GEBAEUDETYP_6.0</th>\n",
       "      <th>GEBAEUDETYP_8.0</th>\n",
       "    </tr>\n",
       "  </thead>\n",
       "  <tbody>\n",
       "    <tr>\n",
       "      <th>1</th>\n",
       "      <td>1.0</td>\n",
       "      <td>2</td>\n",
       "      <td>1</td>\n",
       "      <td>5</td>\n",
       "      <td>2</td>\n",
       "      <td>5</td>\n",
       "      <td>4</td>\n",
       "      <td>5</td>\n",
       "      <td>0</td>\n",
       "      <td>3.0</td>\n",
       "      <td>...</td>\n",
       "      <td>0</td>\n",
       "      <td>1</td>\n",
       "      <td>0</td>\n",
       "      <td>0</td>\n",
       "      <td>0</td>\n",
       "      <td>0</td>\n",
       "      <td>0</td>\n",
       "      <td>0</td>\n",
       "      <td>0</td>\n",
       "      <td>1</td>\n",
       "    </tr>\n",
       "    <tr>\n",
       "      <th>2</th>\n",
       "      <td>3.0</td>\n",
       "      <td>2</td>\n",
       "      <td>1</td>\n",
       "      <td>4</td>\n",
       "      <td>1</td>\n",
       "      <td>2</td>\n",
       "      <td>3</td>\n",
       "      <td>5</td>\n",
       "      <td>1</td>\n",
       "      <td>3.0</td>\n",
       "      <td>...</td>\n",
       "      <td>0</td>\n",
       "      <td>1</td>\n",
       "      <td>0</td>\n",
       "      <td>1</td>\n",
       "      <td>0</td>\n",
       "      <td>0</td>\n",
       "      <td>0</td>\n",
       "      <td>0</td>\n",
       "      <td>0</td>\n",
       "      <td>0</td>\n",
       "    </tr>\n",
       "    <tr>\n",
       "      <th>3</th>\n",
       "      <td>4.0</td>\n",
       "      <td>2</td>\n",
       "      <td>4</td>\n",
       "      <td>2</td>\n",
       "      <td>5</td>\n",
       "      <td>2</td>\n",
       "      <td>1</td>\n",
       "      <td>2</td>\n",
       "      <td>0</td>\n",
       "      <td>2.0</td>\n",
       "      <td>...</td>\n",
       "      <td>0</td>\n",
       "      <td>0</td>\n",
       "      <td>0</td>\n",
       "      <td>1</td>\n",
       "      <td>0</td>\n",
       "      <td>0</td>\n",
       "      <td>0</td>\n",
       "      <td>0</td>\n",
       "      <td>0</td>\n",
       "      <td>0</td>\n",
       "    </tr>\n",
       "    <tr>\n",
       "      <th>4</th>\n",
       "      <td>3.0</td>\n",
       "      <td>1</td>\n",
       "      <td>4</td>\n",
       "      <td>3</td>\n",
       "      <td>4</td>\n",
       "      <td>1</td>\n",
       "      <td>3</td>\n",
       "      <td>2</td>\n",
       "      <td>0</td>\n",
       "      <td>3.0</td>\n",
       "      <td>...</td>\n",
       "      <td>1</td>\n",
       "      <td>0</td>\n",
       "      <td>0</td>\n",
       "      <td>1</td>\n",
       "      <td>0</td>\n",
       "      <td>0</td>\n",
       "      <td>0</td>\n",
       "      <td>0</td>\n",
       "      <td>0</td>\n",
       "      <td>0</td>\n",
       "    </tr>\n",
       "    <tr>\n",
       "      <th>5</th>\n",
       "      <td>1.0</td>\n",
       "      <td>2</td>\n",
       "      <td>3</td>\n",
       "      <td>1</td>\n",
       "      <td>5</td>\n",
       "      <td>2</td>\n",
       "      <td>2</td>\n",
       "      <td>5</td>\n",
       "      <td>0</td>\n",
       "      <td>3.0</td>\n",
       "      <td>...</td>\n",
       "      <td>1</td>\n",
       "      <td>0</td>\n",
       "      <td>0</td>\n",
       "      <td>1</td>\n",
       "      <td>0</td>\n",
       "      <td>0</td>\n",
       "      <td>0</td>\n",
       "      <td>0</td>\n",
       "      <td>0</td>\n",
       "      <td>0</td>\n",
       "    </tr>\n",
       "  </tbody>\n",
       "</table>\n",
       "<p>5 rows × 109 columns</p>\n",
       "</div>"
      ],
      "text/plain": [
       "   ALTERSKATEGORIE_GROB  ANREDE_KZ  FINANZ_MINIMALIST  FINANZ_SPARER  \\\n",
       "1                   1.0          2                  1              5   \n",
       "2                   3.0          2                  1              4   \n",
       "3                   4.0          2                  4              2   \n",
       "4                   3.0          1                  4              3   \n",
       "5                   1.0          2                  3              1   \n",
       "\n",
       "   FINANZ_VORSORGER  FINANZ_ANLEGER  FINANZ_UNAUFFAELLIGER  FINANZ_HAUSBAUER  \\\n",
       "1                 2               5                      4                 5   \n",
       "2                 1               2                      3                 5   \n",
       "3                 5               2                      1                 2   \n",
       "4                 4               1                      3                 2   \n",
       "5                 5               2                      2                 5   \n",
       "\n",
       "   GREEN_AVANTGARDE  HEALTH_TYP       ...         ZABEOTYP_4  ZABEOTYP_5  \\\n",
       "1                 0         3.0       ...                  0           1   \n",
       "2                 1         3.0       ...                  0           1   \n",
       "3                 0         2.0       ...                  0           0   \n",
       "4                 0         3.0       ...                  1           0   \n",
       "5                 0         3.0       ...                  1           0   \n",
       "\n",
       "   ZABEOTYP_6  GEBAEUDETYP_1.0  GEBAEUDETYP_2.0  GEBAEUDETYP_3.0  \\\n",
       "1           0                0                0                0   \n",
       "2           0                1                0                0   \n",
       "3           0                1                0                0   \n",
       "4           0                1                0                0   \n",
       "5           0                1                0                0   \n",
       "\n",
       "   GEBAEUDETYP_4.0  GEBAEUDETYP_5.0  GEBAEUDETYP_6.0  GEBAEUDETYP_8.0  \n",
       "1                0                0                0                1  \n",
       "2                0                0                0                0  \n",
       "3                0                0                0                0  \n",
       "4                0                0                0                0  \n",
       "5                0                0                0                0  \n",
       "\n",
       "[5 rows x 109 columns]"
      ]
     },
     "execution_count": 32,
     "metadata": {},
     "output_type": "execute_result"
    }
   ],
   "source": [
    "# Get dummies for all remaining multi-level columns\n",
    "azdias_lownan = pd.get_dummies(azdias_lownan, columns=cat_cols_multilev)\n",
    "azdias_lownan.head()"
   ]
  },
  {
   "cell_type": "code",
   "execution_count": 33,
   "metadata": {},
   "outputs": [
    {
     "name": "stdout",
     "output_type": "stream",
     "text": [
      "<class 'pandas.core.frame.DataFrame'>\n",
      "Int64Index: 747109 entries, 1 to 891220\n",
      "Columns: 109 entries, ALTERSKATEGORIE_GROB to GEBAEUDETYP_8.0\n",
      "dtypes: float64(41), int64(23), object(1), uint8(44)\n",
      "memory usage: 407.5+ MB\n"
     ]
    }
   ],
   "source": [
    "azdias_lownan.info()"
   ]
  },
  {
   "cell_type": "markdown",
   "metadata": {},
   "source": [
    "### Discussion 1.2.1: Re-Encode Categorical Features <a name=\"disc121\"></a>\n",
    "\n",
    "**As shared above in the processing cells:**\n",
    "\n",
    "**We saw that OST_WEST_KZ was a binary column, but with strings instead of numeric values. These values got re-encoded with 1s and 0s.**\n",
    "\n",
    "**There were several multi-level categories that had a large number of unique values. If we ran pd.get_dummies on all of them, we'd massively increase the dimensionality of our dataset, which didn't seem like a great idea. The Data Dictionary translations of the categories with highest value counts are:**\n",
    "\n",
    "- CAMEO_DEU_2015 values: 44\n",
    "    - Wealth / Life Stage Typology, detailed scale\n",
    "- GFK_URLAUBERTYP values: 12\n",
    "    - Vacation Habits\n",
    "- LP_FAMILIE_FEIN values: 11\n",
    "    - Family Type\n",
    "- LP_STATUS_FEIN values: 10\n",
    "    - Social status, fine scale\n",
    "- CAMEO_DEUG_2015 values: 9\n",
    "    - Wealth / Life Stage Typology, rough scale\n",
    "    \n",
    "**I chose to keep only the multi-value lists with less than 10 values, as the rest of the above seemed a bit excessive.**\n",
    "\n",
    "**I then ran .get_dummies on all remaining multi-value features to complete our re-encoding of categorical features.**"
   ]
  },
  {
   "cell_type": "markdown",
   "metadata": {},
   "source": [
    "#### Step 1.2.2: Engineer Mixed-Type Features <a name=\"step122\"></a>\n",
    "\n",
    "There are a handful of features that are marked as \"mixed\" in the feature summary that require special treatment in order to be included in the analysis. There are two in particular that deserve attention; the handling of the rest are up to your own choices:\n",
    "- \"PRAEGENDE_JUGENDJAHRE\" combines information on three dimensions: generation by decade, movement (mainstream vs. avantgarde), and nation (east vs. west). While there aren't enough levels to disentangle east from west, you should create two new variables to capture the other two dimensions: an interval-type variable for decade, and a binary variable for movement.\n",
    "- \"CAMEO_INTL_2015\" combines information on two axes: wealth and life stage. Break up the two-digit codes by their 'tens'-place and 'ones'-place digits into two new ordinal variables (which, for the purposes of this project, is equivalent to just treating them as their raw numeric values).\n",
    "- If you decide to keep or engineer new features around the other mixed-type features, make sure you note your steps in the Discussion section.\n",
    "\n",
    "Be sure to check `Data_Dictionary.md` for the details needed to finish these tasks."
   ]
  },
  {
   "cell_type": "code",
   "execution_count": 34,
   "metadata": {},
   "outputs": [
    {
     "data": {
      "text/html": [
       "<div>\n",
       "<style scoped>\n",
       "    .dataframe tbody tr th:only-of-type {\n",
       "        vertical-align: middle;\n",
       "    }\n",
       "\n",
       "    .dataframe tbody tr th {\n",
       "        vertical-align: top;\n",
       "    }\n",
       "\n",
       "    .dataframe thead th {\n",
       "        text-align: right;\n",
       "    }\n",
       "</style>\n",
       "<table border=\"1\" class=\"dataframe\">\n",
       "  <thead>\n",
       "    <tr style=\"text-align: right;\">\n",
       "      <th></th>\n",
       "      <th>attribute</th>\n",
       "      <th>information_level</th>\n",
       "      <th>type</th>\n",
       "      <th>missing_or_unknown</th>\n",
       "    </tr>\n",
       "  </thead>\n",
       "  <tbody>\n",
       "    <tr>\n",
       "      <th>15</th>\n",
       "      <td>LP_LEBENSPHASE_FEIN</td>\n",
       "      <td>person</td>\n",
       "      <td>mixed</td>\n",
       "      <td>[0]</td>\n",
       "    </tr>\n",
       "    <tr>\n",
       "      <th>16</th>\n",
       "      <td>LP_LEBENSPHASE_GROB</td>\n",
       "      <td>person</td>\n",
       "      <td>mixed</td>\n",
       "      <td>[0]</td>\n",
       "    </tr>\n",
       "    <tr>\n",
       "      <th>22</th>\n",
       "      <td>PRAEGENDE_JUGENDJAHRE</td>\n",
       "      <td>person</td>\n",
       "      <td>mixed</td>\n",
       "      <td>[-1,0]</td>\n",
       "    </tr>\n",
       "    <tr>\n",
       "      <th>56</th>\n",
       "      <td>WOHNLAGE</td>\n",
       "      <td>building</td>\n",
       "      <td>mixed</td>\n",
       "      <td>[-1]</td>\n",
       "    </tr>\n",
       "    <tr>\n",
       "      <th>59</th>\n",
       "      <td>CAMEO_INTL_2015</td>\n",
       "      <td>microcell_rr4</td>\n",
       "      <td>mixed</td>\n",
       "      <td>[-1,XX]</td>\n",
       "    </tr>\n",
       "    <tr>\n",
       "      <th>79</th>\n",
       "      <td>PLZ8_BAUMAX</td>\n",
       "      <td>macrocell_plz8</td>\n",
       "      <td>mixed</td>\n",
       "      <td>[-1,0]</td>\n",
       "    </tr>\n",
       "  </tbody>\n",
       "</table>\n",
       "</div>"
      ],
      "text/plain": [
       "                attribute information_level   type missing_or_unknown\n",
       "15    LP_LEBENSPHASE_FEIN            person  mixed                [0]\n",
       "16    LP_LEBENSPHASE_GROB            person  mixed                [0]\n",
       "22  PRAEGENDE_JUGENDJAHRE            person  mixed             [-1,0]\n",
       "56               WOHNLAGE          building  mixed               [-1]\n",
       "59        CAMEO_INTL_2015     microcell_rr4  mixed            [-1,XX]\n",
       "79            PLZ8_BAUMAX    macrocell_plz8  mixed             [-1,0]"
      ]
     },
     "execution_count": 34,
     "metadata": {},
     "output_type": "execute_result"
    }
   ],
   "source": [
    "# Review all mixed-type features\n",
    "features_upd = list(azdias_lownan.columns)\n",
    "feat_info_upd = feat_info[feat_info['attribute'].isin(features_upd)]\n",
    "cat_cols_mixed = feat_info_upd[feat_info_upd['type']=='mixed']['attribute']\n",
    "\n",
    "feat_info_upd[feat_info_upd['type'] == 'mixed']"
   ]
  },
  {
   "cell_type": "code",
   "execution_count": 35,
   "metadata": {},
   "outputs": [],
   "source": [
    "# Investigate \"PRAEGENDE_JUGENDJAHRE\" and engineer two new variables.\n",
    "# Create conversion dictionaries and new columns, convert columns and drop the original column\n",
    "\n",
    "# For decades: 40s=1, 50s=2, 60s=3, 70s=4, 80s=5, 90s=6\n",
    "decades = {1:1, 2:1, 3:2, 4:2, 5:3, 6:3, 7:3, 8:4,\n",
    "           9:4, 10:5, 11:5, 12:5, 13:5, 14:6, 15:6}\n",
    "\n",
    "# For movements: Mainstream=1, Avantgarde=0\n",
    "movements = {1:1, 2:0, 3:1, 4:0, 5:1, 6:0, 7:0, 8:1, \n",
    "             9:0, 10:1, 11:0, 12:1, 13:0, 14:1, 15:0}\n",
    "\n",
    "azdias_lownan['DECADE'] = azdias_lownan['PRAEGENDE_JUGENDJAHRE']\n",
    "azdias_lownan['MOVEMENT'] = azdias_lownan['PRAEGENDE_JUGENDJAHRE']\n",
    "\n",
    "azdias_lownan['DECADE'].replace(decades, inplace=True)\n",
    "azdias_lownan['MOVEMENT'].replace(movements, inplace=True)\n",
    "azdias_lownan.drop('PRAEGENDE_JUGENDJAHRE', axis = 1, inplace = True)"
   ]
  },
  {
   "cell_type": "code",
   "execution_count": 36,
   "metadata": {},
   "outputs": [],
   "source": [
    "# Investigate \"CAMEO_INTL_2015\" and engineer two new variables.\n",
    "# Create conversion dictionaries and new columns, convert columns and drop the original column\n",
    "\n",
    "# For wealths: 11-15=Wealthy Households, 21-25=Prosperous Households, 31-35=Comfortable Households, 41-45=Less Affluent Households, 51-55=Poorer Households\n",
    "wealths = {'11':1, '12':1, '13':1, '14':1, '15':1, \n",
    "           '21':2, '22':2, '23':2, '24':2, '25':2,\n",
    "           '31':3, '32':3, '33':3, '34':3, '35':3,\n",
    "           '41':4, '42':4, '43':4, '44':4, '45':4,\n",
    "           '51':5, '52':5, '53':5, '54':5, '55':5}\n",
    "\n",
    "# For stages: ending in 1s=Pre-Family Couples & Singles, 2s=Young Couples With Children, 3s=Families With School Age Children, 4s=Older Families & Mature Couples, 5s=Elders In Retirement\n",
    "stages = {'11':1, '12':2, '13':3, '14':4, '15':5,\n",
    "          '21':1, '22':2, '23':3, '24':4, '25':5,\n",
    "          '31':1, '32':2, '33':3, '34':4, '35':5, \n",
    "          '41':1, '42':2, '43':3, '44':4, '45':5,\n",
    "          '51':1, '52':2, '53':3, '54':4, '55':5}\n",
    "\n",
    "azdias_lownan['WEALTH'] = azdias_lownan['CAMEO_INTL_2015']\n",
    "azdias_lownan['LIFE_STAGE'] = azdias_lownan['CAMEO_INTL_2015']\n",
    "\n",
    "azdias_lownan['WEALTH'].replace(wealths, inplace=True)\n",
    "azdias_lownan['LIFE_STAGE'].replace(stages, inplace=True)\n",
    "azdias_lownan.drop('CAMEO_INTL_2015', axis = 1, inplace = True)"
   ]
  },
  {
   "cell_type": "code",
   "execution_count": 37,
   "metadata": {},
   "outputs": [
    {
     "data": {
      "text/html": [
       "<div>\n",
       "<style scoped>\n",
       "    .dataframe tbody tr th:only-of-type {\n",
       "        vertical-align: middle;\n",
       "    }\n",
       "\n",
       "    .dataframe tbody tr th {\n",
       "        vertical-align: top;\n",
       "    }\n",
       "\n",
       "    .dataframe thead th {\n",
       "        text-align: right;\n",
       "    }\n",
       "</style>\n",
       "<table border=\"1\" class=\"dataframe\">\n",
       "  <thead>\n",
       "    <tr style=\"text-align: right;\">\n",
       "      <th></th>\n",
       "      <th>attribute</th>\n",
       "      <th>information_level</th>\n",
       "      <th>type</th>\n",
       "      <th>missing_or_unknown</th>\n",
       "    </tr>\n",
       "  </thead>\n",
       "  <tbody>\n",
       "    <tr>\n",
       "      <th>15</th>\n",
       "      <td>LP_LEBENSPHASE_FEIN</td>\n",
       "      <td>person</td>\n",
       "      <td>mixed</td>\n",
       "      <td>[0]</td>\n",
       "    </tr>\n",
       "    <tr>\n",
       "      <th>16</th>\n",
       "      <td>LP_LEBENSPHASE_GROB</td>\n",
       "      <td>person</td>\n",
       "      <td>mixed</td>\n",
       "      <td>[0]</td>\n",
       "    </tr>\n",
       "    <tr>\n",
       "      <th>56</th>\n",
       "      <td>WOHNLAGE</td>\n",
       "      <td>building</td>\n",
       "      <td>mixed</td>\n",
       "      <td>[-1]</td>\n",
       "    </tr>\n",
       "    <tr>\n",
       "      <th>79</th>\n",
       "      <td>PLZ8_BAUMAX</td>\n",
       "      <td>macrocell_plz8</td>\n",
       "      <td>mixed</td>\n",
       "      <td>[-1,0]</td>\n",
       "    </tr>\n",
       "  </tbody>\n",
       "</table>\n",
       "</div>"
      ],
      "text/plain": [
       "              attribute information_level   type missing_or_unknown\n",
       "15  LP_LEBENSPHASE_FEIN            person  mixed                [0]\n",
       "16  LP_LEBENSPHASE_GROB            person  mixed                [0]\n",
       "56             WOHNLAGE          building  mixed               [-1]\n",
       "79          PLZ8_BAUMAX    macrocell_plz8  mixed             [-1,0]"
      ]
     },
     "execution_count": 37,
     "metadata": {},
     "output_type": "execute_result"
    }
   ],
   "source": [
    "# Review all mixed-type features\n",
    "features_upd = list(azdias_lownan.columns)\n",
    "feat_info_upd = feat_info[feat_info['attribute'].isin(features_upd)]\n",
    "cat_cols_mixed = feat_info_upd[feat_info_upd['type']=='mixed']['attribute']\n",
    "\n",
    "feat_info_upd[feat_info_upd['type'] == 'mixed']"
   ]
  },
  {
   "cell_type": "markdown",
   "metadata": {},
   "source": [
    "The rest of these 4 mixed types will be dropped."
   ]
  },
  {
   "cell_type": "code",
   "execution_count": 38,
   "metadata": {},
   "outputs": [],
   "source": [
    "for col in cat_cols_mixed:\n",
    "    azdias_lownan.drop(col, axis = 1, inplace = True)"
   ]
  },
  {
   "cell_type": "code",
   "execution_count": 39,
   "metadata": {},
   "outputs": [
    {
     "data": {
      "text/html": [
       "<div>\n",
       "<style scoped>\n",
       "    .dataframe tbody tr th:only-of-type {\n",
       "        vertical-align: middle;\n",
       "    }\n",
       "\n",
       "    .dataframe tbody tr th {\n",
       "        vertical-align: top;\n",
       "    }\n",
       "\n",
       "    .dataframe thead th {\n",
       "        text-align: right;\n",
       "    }\n",
       "</style>\n",
       "<table border=\"1\" class=\"dataframe\">\n",
       "  <thead>\n",
       "    <tr style=\"text-align: right;\">\n",
       "      <th></th>\n",
       "      <th>ALTERSKATEGORIE_GROB</th>\n",
       "      <th>ANREDE_KZ</th>\n",
       "      <th>FINANZ_MINIMALIST</th>\n",
       "      <th>FINANZ_SPARER</th>\n",
       "      <th>FINANZ_VORSORGER</th>\n",
       "      <th>FINANZ_ANLEGER</th>\n",
       "      <th>FINANZ_UNAUFFAELLIGER</th>\n",
       "      <th>FINANZ_HAUSBAUER</th>\n",
       "      <th>GREEN_AVANTGARDE</th>\n",
       "      <th>HEALTH_TYP</th>\n",
       "      <th>...</th>\n",
       "      <th>GEBAEUDETYP_2.0</th>\n",
       "      <th>GEBAEUDETYP_3.0</th>\n",
       "      <th>GEBAEUDETYP_4.0</th>\n",
       "      <th>GEBAEUDETYP_5.0</th>\n",
       "      <th>GEBAEUDETYP_6.0</th>\n",
       "      <th>GEBAEUDETYP_8.0</th>\n",
       "      <th>DECADE</th>\n",
       "      <th>MOVEMENT</th>\n",
       "      <th>WEALTH</th>\n",
       "      <th>LIFE_STAGE</th>\n",
       "    </tr>\n",
       "  </thead>\n",
       "  <tbody>\n",
       "    <tr>\n",
       "      <th>1</th>\n",
       "      <td>1.0</td>\n",
       "      <td>2</td>\n",
       "      <td>1</td>\n",
       "      <td>5</td>\n",
       "      <td>2</td>\n",
       "      <td>5</td>\n",
       "      <td>4</td>\n",
       "      <td>5</td>\n",
       "      <td>0</td>\n",
       "      <td>3.0</td>\n",
       "      <td>...</td>\n",
       "      <td>0</td>\n",
       "      <td>0</td>\n",
       "      <td>0</td>\n",
       "      <td>0</td>\n",
       "      <td>0</td>\n",
       "      <td>1</td>\n",
       "      <td>6.0</td>\n",
       "      <td>1.0</td>\n",
       "      <td>5.0</td>\n",
       "      <td>1.0</td>\n",
       "    </tr>\n",
       "    <tr>\n",
       "      <th>2</th>\n",
       "      <td>3.0</td>\n",
       "      <td>2</td>\n",
       "      <td>1</td>\n",
       "      <td>4</td>\n",
       "      <td>1</td>\n",
       "      <td>2</td>\n",
       "      <td>3</td>\n",
       "      <td>5</td>\n",
       "      <td>1</td>\n",
       "      <td>3.0</td>\n",
       "      <td>...</td>\n",
       "      <td>0</td>\n",
       "      <td>0</td>\n",
       "      <td>0</td>\n",
       "      <td>0</td>\n",
       "      <td>0</td>\n",
       "      <td>0</td>\n",
       "      <td>6.0</td>\n",
       "      <td>0.0</td>\n",
       "      <td>2.0</td>\n",
       "      <td>4.0</td>\n",
       "    </tr>\n",
       "    <tr>\n",
       "      <th>3</th>\n",
       "      <td>4.0</td>\n",
       "      <td>2</td>\n",
       "      <td>4</td>\n",
       "      <td>2</td>\n",
       "      <td>5</td>\n",
       "      <td>2</td>\n",
       "      <td>1</td>\n",
       "      <td>2</td>\n",
       "      <td>0</td>\n",
       "      <td>2.0</td>\n",
       "      <td>...</td>\n",
       "      <td>0</td>\n",
       "      <td>0</td>\n",
       "      <td>0</td>\n",
       "      <td>0</td>\n",
       "      <td>0</td>\n",
       "      <td>0</td>\n",
       "      <td>4.0</td>\n",
       "      <td>1.0</td>\n",
       "      <td>1.0</td>\n",
       "      <td>2.0</td>\n",
       "    </tr>\n",
       "    <tr>\n",
       "      <th>4</th>\n",
       "      <td>3.0</td>\n",
       "      <td>1</td>\n",
       "      <td>4</td>\n",
       "      <td>3</td>\n",
       "      <td>4</td>\n",
       "      <td>1</td>\n",
       "      <td>3</td>\n",
       "      <td>2</td>\n",
       "      <td>0</td>\n",
       "      <td>3.0</td>\n",
       "      <td>...</td>\n",
       "      <td>0</td>\n",
       "      <td>0</td>\n",
       "      <td>0</td>\n",
       "      <td>0</td>\n",
       "      <td>0</td>\n",
       "      <td>0</td>\n",
       "      <td>4.0</td>\n",
       "      <td>1.0</td>\n",
       "      <td>4.0</td>\n",
       "      <td>3.0</td>\n",
       "    </tr>\n",
       "    <tr>\n",
       "      <th>5</th>\n",
       "      <td>1.0</td>\n",
       "      <td>2</td>\n",
       "      <td>3</td>\n",
       "      <td>1</td>\n",
       "      <td>5</td>\n",
       "      <td>2</td>\n",
       "      <td>2</td>\n",
       "      <td>5</td>\n",
       "      <td>0</td>\n",
       "      <td>3.0</td>\n",
       "      <td>...</td>\n",
       "      <td>0</td>\n",
       "      <td>0</td>\n",
       "      <td>0</td>\n",
       "      <td>0</td>\n",
       "      <td>0</td>\n",
       "      <td>0</td>\n",
       "      <td>2.0</td>\n",
       "      <td>1.0</td>\n",
       "      <td>5.0</td>\n",
       "      <td>4.0</td>\n",
       "    </tr>\n",
       "  </tbody>\n",
       "</table>\n",
       "<p>5 rows × 107 columns</p>\n",
       "</div>"
      ],
      "text/plain": [
       "   ALTERSKATEGORIE_GROB  ANREDE_KZ  FINANZ_MINIMALIST  FINANZ_SPARER  \\\n",
       "1                   1.0          2                  1              5   \n",
       "2                   3.0          2                  1              4   \n",
       "3                   4.0          2                  4              2   \n",
       "4                   3.0          1                  4              3   \n",
       "5                   1.0          2                  3              1   \n",
       "\n",
       "   FINANZ_VORSORGER  FINANZ_ANLEGER  FINANZ_UNAUFFAELLIGER  FINANZ_HAUSBAUER  \\\n",
       "1                 2               5                      4                 5   \n",
       "2                 1               2                      3                 5   \n",
       "3                 5               2                      1                 2   \n",
       "4                 4               1                      3                 2   \n",
       "5                 5               2                      2                 5   \n",
       "\n",
       "   GREEN_AVANTGARDE  HEALTH_TYP     ...      GEBAEUDETYP_2.0  GEBAEUDETYP_3.0  \\\n",
       "1                 0         3.0     ...                    0                0   \n",
       "2                 1         3.0     ...                    0                0   \n",
       "3                 0         2.0     ...                    0                0   \n",
       "4                 0         3.0     ...                    0                0   \n",
       "5                 0         3.0     ...                    0                0   \n",
       "\n",
       "   GEBAEUDETYP_4.0  GEBAEUDETYP_5.0  GEBAEUDETYP_6.0  GEBAEUDETYP_8.0  DECADE  \\\n",
       "1                0                0                0                1     6.0   \n",
       "2                0                0                0                0     6.0   \n",
       "3                0                0                0                0     4.0   \n",
       "4                0                0                0                0     4.0   \n",
       "5                0                0                0                0     2.0   \n",
       "\n",
       "   MOVEMENT  WEALTH  LIFE_STAGE  \n",
       "1       1.0     5.0         1.0  \n",
       "2       0.0     2.0         4.0  \n",
       "3       1.0     1.0         2.0  \n",
       "4       1.0     4.0         3.0  \n",
       "5       1.0     5.0         4.0  \n",
       "\n",
       "[5 rows x 107 columns]"
      ]
     },
     "execution_count": 39,
     "metadata": {},
     "output_type": "execute_result"
    }
   ],
   "source": [
    "print(azdias_lownan.shape)\n",
    "azdias_lownan.head()"
   ]
  },
  {
   "cell_type": "markdown",
   "metadata": {},
   "source": [
    "### Discussion 1.2.2: Engineer Mixed-Type Features  <a name=\"disc122\"></a>\n",
    "\n",
    "**There were 6 “mixed” type columns in the dataset that needed to be either converted or removed. For PRAEGENDE_JUGENDJAHRE and CAMEO_INTL_2015, I broke up the combined multiple values into two separate columns for each feature to better utilize them as individual, non-dependent features, and then removed the original columns, as their mixed type/data will not be usable in our machine learning process.**\n",
    "\n",
    "**The remaining four “mixed” type columns were:**\n",
    "- LP_LEBENSPHASE_FEIN \n",
    "    - Life stage, fine scale\n",
    "- LP_LEBENSPHASE_GROB \n",
    "    - Life stage, rough scale\n",
    "- WOHNLAGE \n",
    "    - Neighborhood quality (or rural flag)\n",
    "- PLZ8_BAUMAX\n",
    "    - Most common building type within the PLZ8 region\n",
    "\n",
    "**These four were dropped from the dataset to finish preparing the set for machine learning algorithm use.**"
   ]
  },
  {
   "cell_type": "markdown",
   "metadata": {},
   "source": [
    "#### Step 1.2.3: Complete Feature Selection  <a name=\"step123\"></a>\n",
    "\n",
    "In order to finish this step up, you need to make sure that your data frame now only has the columns that you want to keep. To summarize, the dataframe should consist of the following:\n",
    "- All numeric, interval, and ordinal type columns from the original dataset.\n",
    "- Binary categorical features (all numerically-encoded).\n",
    "- Engineered features from other multi-level categorical features and mixed features.\n",
    "\n",
    "Make sure that for any new columns that you have engineered, that you've excluded the original columns from the final dataset. Otherwise, their values will interfere with the analysis later on the project. For example, you should not keep \"PRAEGENDE_JUGENDJAHRE\", since its values won't be useful for the algorithm: only the values derived from it in the engineered features you created should be retained. As a reminder, your data should only be from **the subset with few or no missing values**."
   ]
  },
  {
   "cell_type": "code",
   "execution_count": 40,
   "metadata": {},
   "outputs": [
    {
     "name": "stdout",
     "output_type": "stream",
     "text": [
      "(63, 4)\n"
     ]
    },
    {
     "data": {
      "text/plain": [
       "['ALTERSKATEGORIE_GROB',\n",
       " 'ANREDE_KZ',\n",
       " 'FINANZ_MINIMALIST',\n",
       " 'FINANZ_SPARER',\n",
       " 'FINANZ_VORSORGER',\n",
       " 'FINANZ_ANLEGER',\n",
       " 'FINANZ_UNAUFFAELLIGER',\n",
       " 'FINANZ_HAUSBAUER',\n",
       " 'GREEN_AVANTGARDE',\n",
       " 'HEALTH_TYP',\n",
       " 'LP_LEBENSPHASE_FEIN',\n",
       " 'LP_LEBENSPHASE_GROB',\n",
       " 'RETOURTYP_BK_S',\n",
       " 'SEMIO_SOZ',\n",
       " 'SEMIO_FAM',\n",
       " 'SEMIO_REL',\n",
       " 'SEMIO_MAT',\n",
       " 'SEMIO_VERT',\n",
       " 'SEMIO_LUST',\n",
       " 'SEMIO_ERL',\n",
       " 'SEMIO_KULT',\n",
       " 'SEMIO_RAT',\n",
       " 'SEMIO_KRIT',\n",
       " 'SEMIO_DOM',\n",
       " 'SEMIO_KAEM',\n",
       " 'SEMIO_PFLICHT',\n",
       " 'SEMIO_TRADV',\n",
       " 'SOHO_KZ',\n",
       " 'ANZ_PERSONEN',\n",
       " 'ANZ_TITEL',\n",
       " 'HH_EINKOMMEN_SCORE',\n",
       " 'W_KEIT_KIND_HH',\n",
       " 'WOHNDAUER_2008',\n",
       " 'ANZ_HAUSHALTE_AKTIV',\n",
       " 'ANZ_HH_TITEL',\n",
       " 'KONSUMNAEHE',\n",
       " 'MIN_GEBAEUDEJAHR',\n",
       " 'OST_WEST_KZ',\n",
       " 'WOHNLAGE',\n",
       " 'KBA05_ANTG1',\n",
       " 'KBA05_ANTG2',\n",
       " 'KBA05_ANTG3',\n",
       " 'KBA05_ANTG4',\n",
       " 'KBA05_GBZ',\n",
       " 'BALLRAUM',\n",
       " 'EWDICHTE',\n",
       " 'INNENSTADT',\n",
       " 'GEBAEUDETYP_RASTER',\n",
       " 'KKK',\n",
       " 'MOBI_REGIO',\n",
       " 'ONLINE_AFFINITAET',\n",
       " 'REGIOTYP',\n",
       " 'KBA13_ANZAHL_PKW',\n",
       " 'PLZ8_ANTG1',\n",
       " 'PLZ8_ANTG2',\n",
       " 'PLZ8_ANTG3',\n",
       " 'PLZ8_ANTG4',\n",
       " 'PLZ8_BAUMAX',\n",
       " 'PLZ8_HHZ',\n",
       " 'PLZ8_GBZ',\n",
       " 'ARBEIT',\n",
       " 'ORTSGR_KLS9',\n",
       " 'RELAT_AB']"
      ]
     },
     "execution_count": 40,
     "metadata": {},
     "output_type": "execute_result"
    }
   ],
   "source": [
    "# If there are other re-engineering tasks you need to perform, make sure you\n",
    "# take care of them here. (Dealing with missing data will come in step 2.1.)\n",
    "azdias_clean = azdias_lownan\n",
    "\n",
    "# Do whatever you need to in order to ensure that the dataframe only contains\n",
    "# the columns that should be passed to the algorithm functions.\n",
    "features_final = list(azdias_clean.columns)\n",
    "feat_info_final = feat_info[feat_info['attribute'].isin(features_upd)]\n",
    "print(feat_info_final.shape)\n",
    "list(feat_info_final['attribute'])"
   ]
  },
  {
   "cell_type": "markdown",
   "metadata": {},
   "source": [
    "### Step 1.3: Create a Cleaning Function <a name=\"step13\"></a>\n",
    "\n",
    "Even though you've finished cleaning up the general population demographics data, it's important to look ahead to the future and realize that you'll need to perform the same cleaning steps on the customer demographics data. In this substep, complete the function below to execute the main feature selection, encoding, and re-engineering steps you performed above. Then, when it comes to looking at the customer data in Step 3, you can just run this function on that DataFrame to get the trimmed dataset in a single step."
   ]
  },
  {
   "cell_type": "code",
   "execution_count": 41,
   "metadata": {},
   "outputs": [],
   "source": [
    "def clean_data(df):\n",
    "    \"\"\"\n",
    "    Perform feature trimming, re-encoding, and engineering for demographics\n",
    "    data\n",
    "    \n",
    "    INPUT: Demographics DataFrame\n",
    "    OUTPUT: Trimmed and cleaned demographics DataFrame\n",
    "    \"\"\"\n",
    "    # convert missing value codes into NaNs, ...\n",
    "    \n",
    "    natural_nan = df.isna().sum().sum()\n",
    "    print('Total naturally NaN datapoints: {}\\n'.format(naturally_nan))\n",
    "    print(\"Now converting all missing values to NaNs...\")\n",
    "\n",
    "    for i in feat_info.index:\n",
    "        fi_missing = feat_info.loc[i, 'missing_or_unknown']\n",
    "        fi_missing = fi_missing.strip('[]').split(',')\n",
    "        for value in range(len(fi_missing)):\n",
    "            try:\n",
    "                fi_missing[value] = int(fi_missing[value])\n",
    "            except:\n",
    "                continue\n",
    "        df.loc[:,(feat_info.loc[i, 'attribute'])].replace(fi_missing, np.nan, inplace=True)\n",
    "    \n",
    "    upd_nan = df.isna().sum().sum()\n",
    "    print('Total NaN datapoints after conversion: {}'.format(upd_nan))\n",
    "    print('This is {} new NaN values than the naturally occurring NaNs we started with.\\n'.format(upd_nan-natural_nan))\n",
    "\n",
    "    \n",
    "    # remove selected columns and rows, ...\n",
    "    \n",
    "    print(\"Now removing superfluous columns and rows...\")\n",
    "    \n",
    "    # Removal of same columns from general population set\n",
    "    # del_columns is list of the columns removed\n",
    "    df = df.drop(del_columns, axis=1)\n",
    "    \n",
    "    # Removal of rows with more than 10% NaN values\n",
    "    df['nan_percent'] = df.isna().mean(axis=1) * 100\n",
    "    df = df[df['nan_percent'] <= 10]\n",
    "    df = df.drop('nan_percent', axis=1)\n",
    "    \n",
    "    print(\"Superfluous column and row removal complete.\")\n",
    "    print(\"New df.shape is: {}\\n\".format(df.shape))\n",
    "    \n",
    "    \n",
    "    # select, re-encode, and engineer column values\n",
    "\n",
    "    print(\"Now making adjustments to categorical variables for evaluation...\")\n",
    "    \n",
    "    # Group categorical variable(s) for evaluation and management\n",
    "    cat_cols = feat_info[feat_info['type']=='categorical']['attribute']\n",
    "    cat_cols_binary = []\n",
    "    cat_cols_multilev = []\n",
    "    for col in cat_cols:\n",
    "        if col in df:\n",
    "            if (df[col].unique().shape[0] == 2):\n",
    "                cat_cols_binary.append(col)\n",
    "            elif (df[col].unique().shape[0] > 2):\n",
    "                cat_cols_multilev.append(col)\n",
    "    \n",
    "    # Replace string binary values with numeric binary values\n",
    "    df = df.replace({'OST_WEST_KZ' : {'W': 1, 'O': 0}})\n",
    "\n",
    "    # Drop multilevel category features with more than 9 unique values\n",
    "    drop_cols = ['CAMEO_DEU_2015', 'GFK_URLAUBERTYP', 'LP_FAMILIE_FEIN', 'LP_STATUS_FEIN', 'CAMEO_DEUG_2015']\n",
    "    for col in drop_cols:\n",
    "        df.drop(col, axis = 1, inplace = True)\n",
    "        cat_cols_multilev.remove(col)\n",
    "    \n",
    "    # Get dummies for all remaining multi-level features\n",
    "    df = pd.get_dummies(df, columns=cat_cols_multilev)\n",
    "\n",
    "\n",
    "    # Investigate \"PRAEGENDE_JUGENDJAHRE\" and engineer two new variables.\n",
    "    # Create conversion dictionaries and new columns, convert columns and drop the original column\n",
    "\n",
    "    # For decades: 40s=1, 50s=2, 60s=3, 70s=4, 80s=5, 90s=6\n",
    "    decades = {1:1, 2:1, 3:2, 4:2, 5:3, 6:3, 7:3, 8:4,\n",
    "               9:4, 10:5, 11:5, 12:5, 13:5, 14:6, 15:6}\n",
    "\n",
    "    # For movements: Mainstream=1, Avantgarde=0\n",
    "    movements = {1:1, 2:0, 3:1, 4:0, 5:1, 6:0, 7:0, 8:1, \n",
    "                 9:0, 10:1, 11:0, 12:1, 13:0, 14:1, 15:0}\n",
    "\n",
    "    df['DECADE'] = df['PRAEGENDE_JUGENDJAHRE']\n",
    "    df['MOVEMENT'] = df['PRAEGENDE_JUGENDJAHRE']\n",
    "\n",
    "    df['DECADE'].replace(decades, inplace=True)\n",
    "    df['MOVEMENT'].replace(movements, inplace=True)\n",
    "    df.drop('PRAEGENDE_JUGENDJAHRE', axis = 1, inplace = True)\n",
    "    \n",
    "    # Investigate \"CAMEO_INTL_2015\" and engineer two new variables.\n",
    "    # Create conversion dictionaries and new columns, convert columns and drop the original column\n",
    "\n",
    "    wealths = {'11':1, '12':1, '13':1, '14':1, '15':1, \n",
    "               '21':2, '22':2, '23':2, '24':2, '25':2,\n",
    "               '31':3, '32':3, '33':3, '34':3, '35':3,\n",
    "               '41':4, '42':4, '43':4, '44':4, '45':4,\n",
    "               '51':5, '52':5, '53':5, '54':5, '55':5}\n",
    "\n",
    "    stages = {'11':1, '12':2, '13':3, '14':4, '15':5,\n",
    "              '21':1, '22':2, '23':3, '24':4, '25':5,\n",
    "              '31':1, '32':2, '33':3, '34':4, '35':5, \n",
    "              '41':1, '42':2, '43':3, '44':4, '45':5,\n",
    "              '51':1, '52':2, '53':3, '54':4, '55':5}\n",
    "\n",
    "    df['WEALTH'] = df['CAMEO_INTL_2015']\n",
    "    df['LIFE_STAGE'] = df['CAMEO_INTL_2015']\n",
    "\n",
    "    df['WEALTH'].replace(wealths, inplace=True)\n",
    "    df['LIFE_STAGE'].replace(stages, inplace=True)\n",
    "    df.drop('CAMEO_INTL_2015', axis = 1, inplace = True)\n",
    "\n",
    "    \n",
    "    # Review all mixed-type features\n",
    "    features_upd = list(df.columns)\n",
    "    feat_info_upd = feat_info[feat_info['attribute'].isin(features_upd)]\n",
    "    mixed_cols = feat_info_upd[feat_info_upd['type']=='mixed']['attribute']\n",
    "\n",
    "    for col in mixed_cols:\n",
    "        df.drop(col, axis = 1, inplace = True)\n",
    "    \n",
    "    # Output final df shape\n",
    "    features_final = list(df.columns)\n",
    "    feat_info_final = feat_info[feat_info['attribute'].isin(features_upd)]\n",
    "    print(\"All adjustments to categorical variables are complete.\")\n",
    "    print(\"Final df.shape is: {}\\n\".format(df.shape))\n",
    "    \n",
    "    # Return the cleaned dataframe.\n",
    "    return df\n",
    "    "
   ]
  },
  {
   "cell_type": "code",
   "execution_count": 42,
   "metadata": {},
   "outputs": [],
   "source": [
    "# Load in the general demographics data to test function\n",
    "az_test = pd.read_csv('Udacity_AZDIAS_Subset.csv', sep=';')\n"
   ]
  },
  {
   "cell_type": "code",
   "execution_count": 43,
   "metadata": {
    "scrolled": false
   },
   "outputs": [
    {
     "name": "stdout",
     "output_type": "stream",
     "text": [
      "Total naturally NaN datapoints: 4896838\n",
      "\n",
      "Now converting all missing values to NaNs...\n",
      "Total NaN datapoints after conversion: 8373929\n",
      "This is 3477091 new NaN values than the naturally occurring NaNs we started with.\n",
      "\n",
      "Now removing superfluous columns and rows...\n",
      "Superfluous column and row removal complete.\n",
      "New df.shape is: (747109, 79)\n",
      "\n",
      "Now making adjustments to categorical variables for evaluation...\n",
      "All adjustments to categorical variables are complete.\n",
      "Final df.shape is: (747109, 107)\n",
      "\n"
     ]
    }
   ],
   "source": [
    "az_test_cleaned = clean_data(az_test)"
   ]
  },
  {
   "cell_type": "markdown",
   "metadata": {},
   "source": [
    "## Step 2: Feature Transformation <a name=\"step2\"></a>\n",
    "[(return to TOC)](#toc)\n",
    "\n",
    "### Step 2.1: Apply Feature Scaling <a name=\"step21\"></a>\n",
    "\n",
    "Before we apply dimensionality reduction techniques to the data, we need to perform feature scaling so that the principal component vectors are not influenced by the natural differences in scale for features. Starting from this part of the project, you'll want to keep an eye on the [API reference page for sklearn](http://scikit-learn.org/stable/modules/classes.html) to help you navigate to all of the classes and functions that you'll need. In this substep, you'll need to check the following:\n",
    "\n",
    "- sklearn requires that data not have missing values in order for its estimators to work properly. So, before applying the scaler to your data, make sure that you've cleaned the DataFrame of the remaining missing values. This can be as simple as just removing all data points with missing data, or applying an [Imputer](https://scikit-learn.org/0.16/modules/generated/sklearn.preprocessing.Imputer.html) to replace all missing values. You might also try a more complicated procedure where you temporarily remove missing values in order to compute the scaling parameters before re-introducing those missing values and applying imputation. Think about how much missing data you have and what possible effects each approach might have on your analysis, and justify your decision in the discussion section below.\n",
    "- For the actual scaling function, a [StandardScaler](http://scikit-learn.org/stable/modules/generated/sklearn.preprocessing.StandardScaler.html) instance is suggested, scaling each feature to mean 0 and standard deviation 1.\n",
    "- For these classes, you can make use of the `.fit_transform()` method to both fit a procedure to the data as well as apply the transformation to the data at the same time. Don't forget to keep the fit sklearn objects handy, since you'll be applying them to the customer demographics data towards the end of the project."
   ]
  },
  {
   "cell_type": "code",
   "execution_count": 44,
   "metadata": {},
   "outputs": [],
   "source": [
    "# If you've not yet cleaned the dataset of all NaN values, then investigate and\n",
    "# do that now.\n",
    "\n",
    "imputer = Imputer(strategy='most_frequent')\n",
    "azdias_imputed = pd.DataFrame(imputer.fit_transform(azdias_clean),\n",
    "                              columns=azdias_clean.columns,\n",
    "                              index=azdias_clean.index)\n"
   ]
  },
  {
   "cell_type": "code",
   "execution_count": 45,
   "metadata": {},
   "outputs": [
    {
     "data": {
      "text/plain": [
       "0"
      ]
     },
     "execution_count": 45,
     "metadata": {},
     "output_type": "execute_result"
    }
   ],
   "source": [
    "# Confirm there are no NaN values in the dataset\n",
    "azdias_imputed.isna().sum().sum()"
   ]
  },
  {
   "cell_type": "code",
   "execution_count": 46,
   "metadata": {},
   "outputs": [],
   "source": [
    "# Apply feature scaling to the general population demographics data.\n",
    "\n",
    "std_scaler = StandardScaler()\n",
    "azdias_scaled = pd.DataFrame(std_scaler.fit_transform(azdias_imputed),\n",
    "                                            columns=azdias_imputed.columns,\n",
    "                                            index=azdias_imputed.index)\n"
   ]
  },
  {
   "cell_type": "code",
   "execution_count": 47,
   "metadata": {
    "scrolled": false
   },
   "outputs": [
    {
     "data": {
      "text/html": [
       "<div>\n",
       "<style scoped>\n",
       "    .dataframe tbody tr th:only-of-type {\n",
       "        vertical-align: middle;\n",
       "    }\n",
       "\n",
       "    .dataframe tbody tr th {\n",
       "        vertical-align: top;\n",
       "    }\n",
       "\n",
       "    .dataframe thead th {\n",
       "        text-align: right;\n",
       "    }\n",
       "</style>\n",
       "<table border=\"1\" class=\"dataframe\">\n",
       "  <thead>\n",
       "    <tr style=\"text-align: right;\">\n",
       "      <th></th>\n",
       "      <th>ALTERSKATEGORIE_GROB</th>\n",
       "      <th>ANREDE_KZ</th>\n",
       "      <th>FINANZ_MINIMALIST</th>\n",
       "      <th>FINANZ_SPARER</th>\n",
       "      <th>FINANZ_VORSORGER</th>\n",
       "      <th>FINANZ_ANLEGER</th>\n",
       "      <th>FINANZ_UNAUFFAELLIGER</th>\n",
       "      <th>FINANZ_HAUSBAUER</th>\n",
       "      <th>GREEN_AVANTGARDE</th>\n",
       "      <th>HEALTH_TYP</th>\n",
       "      <th>...</th>\n",
       "      <th>GEBAEUDETYP_2.0</th>\n",
       "      <th>GEBAEUDETYP_3.0</th>\n",
       "      <th>GEBAEUDETYP_4.0</th>\n",
       "      <th>GEBAEUDETYP_5.0</th>\n",
       "      <th>GEBAEUDETYP_6.0</th>\n",
       "      <th>GEBAEUDETYP_8.0</th>\n",
       "      <th>DECADE</th>\n",
       "      <th>MOVEMENT</th>\n",
       "      <th>WEALTH</th>\n",
       "      <th>LIFE_STAGE</th>\n",
       "    </tr>\n",
       "  </thead>\n",
       "  <tbody>\n",
       "    <tr>\n",
       "      <th>count</th>\n",
       "      <td>7.471090e+05</td>\n",
       "      <td>7.471090e+05</td>\n",
       "      <td>7.471090e+05</td>\n",
       "      <td>7.471090e+05</td>\n",
       "      <td>7.471090e+05</td>\n",
       "      <td>7.471090e+05</td>\n",
       "      <td>7.471090e+05</td>\n",
       "      <td>7.471090e+05</td>\n",
       "      <td>7.471090e+05</td>\n",
       "      <td>7.471090e+05</td>\n",
       "      <td>...</td>\n",
       "      <td>7.471090e+05</td>\n",
       "      <td>7.471090e+05</td>\n",
       "      <td>7.471090e+05</td>\n",
       "      <td>7.471090e+05</td>\n",
       "      <td>7.471090e+05</td>\n",
       "      <td>7.471090e+05</td>\n",
       "      <td>7.471090e+05</td>\n",
       "      <td>7.471090e+05</td>\n",
       "      <td>7.471090e+05</td>\n",
       "      <td>7.471090e+05</td>\n",
       "    </tr>\n",
       "    <tr>\n",
       "      <th>mean</th>\n",
       "      <td>1.210029e-16</td>\n",
       "      <td>-3.487999e-18</td>\n",
       "      <td>8.019307e-17</td>\n",
       "      <td>-8.139616e-17</td>\n",
       "      <td>3.094737e-17</td>\n",
       "      <td>3.352949e-17</td>\n",
       "      <td>-4.383894e-17</td>\n",
       "      <td>-1.629920e-16</td>\n",
       "      <td>9.446842e-17</td>\n",
       "      <td>1.873581e-17</td>\n",
       "      <td>...</td>\n",
       "      <td>-2.208828e-17</td>\n",
       "      <td>2.377641e-18</td>\n",
       "      <td>1.396626e-17</td>\n",
       "      <td>-3.242508e-18</td>\n",
       "      <td>-4.717239e-18</td>\n",
       "      <td>3.066206e-17</td>\n",
       "      <td>-2.890641e-16</td>\n",
       "      <td>-9.446842e-17</td>\n",
       "      <td>9.225246e-17</td>\n",
       "      <td>-5.775765e-17</td>\n",
       "    </tr>\n",
       "    <tr>\n",
       "      <th>std</th>\n",
       "      <td>1.000001e+00</td>\n",
       "      <td>1.000001e+00</td>\n",
       "      <td>1.000001e+00</td>\n",
       "      <td>1.000001e+00</td>\n",
       "      <td>1.000001e+00</td>\n",
       "      <td>1.000001e+00</td>\n",
       "      <td>1.000001e+00</td>\n",
       "      <td>1.000001e+00</td>\n",
       "      <td>1.000001e+00</td>\n",
       "      <td>1.000001e+00</td>\n",
       "      <td>...</td>\n",
       "      <td>1.000001e+00</td>\n",
       "      <td>1.000001e+00</td>\n",
       "      <td>1.000001e+00</td>\n",
       "      <td>1.000001e+00</td>\n",
       "      <td>1.000001e+00</td>\n",
       "      <td>1.000001e+00</td>\n",
       "      <td>1.000001e+00</td>\n",
       "      <td>1.000001e+00</td>\n",
       "      <td>1.000001e+00</td>\n",
       "      <td>1.000001e+00</td>\n",
       "    </tr>\n",
       "    <tr>\n",
       "      <th>min</th>\n",
       "      <td>-1.754918e+00</td>\n",
       "      <td>-1.038573e+00</td>\n",
       "      <td>-1.503661e+00</td>\n",
       "      <td>-1.140479e+00</td>\n",
       "      <td>-1.773085e+00</td>\n",
       "      <td>-1.237743e+00</td>\n",
       "      <td>-1.152912e+00</td>\n",
       "      <td>-1.552848e+00</td>\n",
       "      <td>-5.363720e-01</td>\n",
       "      <td>-1.631938e+00</td>\n",
       "      <td>...</td>\n",
       "      <td>-7.358846e-02</td>\n",
       "      <td>-5.384757e-01</td>\n",
       "      <td>-3.216186e-02</td>\n",
       "      <td>-1.156933e-03</td>\n",
       "      <td>-2.639131e-02</td>\n",
       "      <td>-4.935252e-01</td>\n",
       "      <td>-2.289151e+00</td>\n",
       "      <td>-1.864378e+00</td>\n",
       "      <td>-1.561811e+00</td>\n",
       "      <td>-1.249676e+00</td>\n",
       "    </tr>\n",
       "    <tr>\n",
       "      <th>25%</th>\n",
       "      <td>-7.783406e-01</td>\n",
       "      <td>-1.038573e+00</td>\n",
       "      <td>-7.738790e-01</td>\n",
       "      <td>-1.140479e+00</td>\n",
       "      <td>-1.049535e+00</td>\n",
       "      <td>-1.237743e+00</td>\n",
       "      <td>-1.152912e+00</td>\n",
       "      <td>-8.318462e-01</td>\n",
       "      <td>-5.363720e-01</td>\n",
       "      <td>-3.094333e-01</td>\n",
       "      <td>...</td>\n",
       "      <td>-7.358846e-02</td>\n",
       "      <td>-5.384757e-01</td>\n",
       "      <td>-3.216186e-02</td>\n",
       "      <td>-1.156933e-03</td>\n",
       "      <td>-2.639131e-02</td>\n",
       "      <td>-4.935252e-01</td>\n",
       "      <td>-9.240556e-01</td>\n",
       "      <td>5.363720e-01</td>\n",
       "      <td>-8.802124e-01</td>\n",
       "      <td>-1.249676e+00</td>\n",
       "    </tr>\n",
       "    <tr>\n",
       "      <th>50%</th>\n",
       "      <td>1.982373e-01</td>\n",
       "      <td>9.628594e-01</td>\n",
       "      <td>-4.409702e-02</td>\n",
       "      <td>2.097310e-01</td>\n",
       "      <td>3.975664e-01</td>\n",
       "      <td>1.264829e-01</td>\n",
       "      <td>-4.308857e-01</td>\n",
       "      <td>-1.108444e-01</td>\n",
       "      <td>-5.363720e-01</td>\n",
       "      <td>-3.094333e-01</td>\n",
       "      <td>...</td>\n",
       "      <td>-7.358846e-02</td>\n",
       "      <td>-5.384757e-01</td>\n",
       "      <td>-3.216186e-02</td>\n",
       "      <td>-1.156933e-03</td>\n",
       "      <td>-2.639131e-02</td>\n",
       "      <td>-4.935252e-01</td>\n",
       "      <td>-2.415080e-01</td>\n",
       "      <td>5.363720e-01</td>\n",
       "      <td>4.829850e-01</td>\n",
       "      <td>8.934848e-02</td>\n",
       "    </tr>\n",
       "    <tr>\n",
       "      <th>75%</th>\n",
       "      <td>1.174815e+00</td>\n",
       "      <td>9.628594e-01</td>\n",
       "      <td>6.856850e-01</td>\n",
       "      <td>8.848361e-01</td>\n",
       "      <td>1.121117e+00</td>\n",
       "      <td>8.085956e-01</td>\n",
       "      <td>1.013168e+00</td>\n",
       "      <td>6.101575e-01</td>\n",
       "      <td>-5.363720e-01</td>\n",
       "      <td>1.013071e+00</td>\n",
       "      <td>...</td>\n",
       "      <td>-7.358846e-02</td>\n",
       "      <td>-5.384757e-01</td>\n",
       "      <td>-3.216186e-02</td>\n",
       "      <td>-1.156933e-03</td>\n",
       "      <td>-2.639131e-02</td>\n",
       "      <td>-4.935252e-01</td>\n",
       "      <td>1.123587e+00</td>\n",
       "      <td>5.363720e-01</td>\n",
       "      <td>1.164584e+00</td>\n",
       "      <td>7.588608e-01</td>\n",
       "    </tr>\n",
       "    <tr>\n",
       "      <th>max</th>\n",
       "      <td>1.174815e+00</td>\n",
       "      <td>9.628594e-01</td>\n",
       "      <td>1.415467e+00</td>\n",
       "      <td>1.559941e+00</td>\n",
       "      <td>1.121117e+00</td>\n",
       "      <td>1.490708e+00</td>\n",
       "      <td>1.735195e+00</td>\n",
       "      <td>1.331159e+00</td>\n",
       "      <td>1.864378e+00</td>\n",
       "      <td>1.013071e+00</td>\n",
       "      <td>...</td>\n",
       "      <td>1.358909e+01</td>\n",
       "      <td>1.857094e+00</td>\n",
       "      <td>3.109273e+01</td>\n",
       "      <td>8.643541e+02</td>\n",
       "      <td>3.789127e+01</td>\n",
       "      <td>2.026239e+00</td>\n",
       "      <td>1.123587e+00</td>\n",
       "      <td>5.363720e-01</td>\n",
       "      <td>1.164584e+00</td>\n",
       "      <td>1.428373e+00</td>\n",
       "    </tr>\n",
       "  </tbody>\n",
       "</table>\n",
       "<p>8 rows × 107 columns</p>\n",
       "</div>"
      ],
      "text/plain": [
       "       ALTERSKATEGORIE_GROB     ANREDE_KZ  FINANZ_MINIMALIST  FINANZ_SPARER  \\\n",
       "count          7.471090e+05  7.471090e+05       7.471090e+05   7.471090e+05   \n",
       "mean           1.210029e-16 -3.487999e-18       8.019307e-17  -8.139616e-17   \n",
       "std            1.000001e+00  1.000001e+00       1.000001e+00   1.000001e+00   \n",
       "min           -1.754918e+00 -1.038573e+00      -1.503661e+00  -1.140479e+00   \n",
       "25%           -7.783406e-01 -1.038573e+00      -7.738790e-01  -1.140479e+00   \n",
       "50%            1.982373e-01  9.628594e-01      -4.409702e-02   2.097310e-01   \n",
       "75%            1.174815e+00  9.628594e-01       6.856850e-01   8.848361e-01   \n",
       "max            1.174815e+00  9.628594e-01       1.415467e+00   1.559941e+00   \n",
       "\n",
       "       FINANZ_VORSORGER  FINANZ_ANLEGER  FINANZ_UNAUFFAELLIGER  \\\n",
       "count      7.471090e+05    7.471090e+05           7.471090e+05   \n",
       "mean       3.094737e-17    3.352949e-17          -4.383894e-17   \n",
       "std        1.000001e+00    1.000001e+00           1.000001e+00   \n",
       "min       -1.773085e+00   -1.237743e+00          -1.152912e+00   \n",
       "25%       -1.049535e+00   -1.237743e+00          -1.152912e+00   \n",
       "50%        3.975664e-01    1.264829e-01          -4.308857e-01   \n",
       "75%        1.121117e+00    8.085956e-01           1.013168e+00   \n",
       "max        1.121117e+00    1.490708e+00           1.735195e+00   \n",
       "\n",
       "       FINANZ_HAUSBAUER  GREEN_AVANTGARDE    HEALTH_TYP      ...       \\\n",
       "count      7.471090e+05      7.471090e+05  7.471090e+05      ...        \n",
       "mean      -1.629920e-16      9.446842e-17  1.873581e-17      ...        \n",
       "std        1.000001e+00      1.000001e+00  1.000001e+00      ...        \n",
       "min       -1.552848e+00     -5.363720e-01 -1.631938e+00      ...        \n",
       "25%       -8.318462e-01     -5.363720e-01 -3.094333e-01      ...        \n",
       "50%       -1.108444e-01     -5.363720e-01 -3.094333e-01      ...        \n",
       "75%        6.101575e-01     -5.363720e-01  1.013071e+00      ...        \n",
       "max        1.331159e+00      1.864378e+00  1.013071e+00      ...        \n",
       "\n",
       "       GEBAEUDETYP_2.0  GEBAEUDETYP_3.0  GEBAEUDETYP_4.0  GEBAEUDETYP_5.0  \\\n",
       "count     7.471090e+05     7.471090e+05     7.471090e+05     7.471090e+05   \n",
       "mean     -2.208828e-17     2.377641e-18     1.396626e-17    -3.242508e-18   \n",
       "std       1.000001e+00     1.000001e+00     1.000001e+00     1.000001e+00   \n",
       "min      -7.358846e-02    -5.384757e-01    -3.216186e-02    -1.156933e-03   \n",
       "25%      -7.358846e-02    -5.384757e-01    -3.216186e-02    -1.156933e-03   \n",
       "50%      -7.358846e-02    -5.384757e-01    -3.216186e-02    -1.156933e-03   \n",
       "75%      -7.358846e-02    -5.384757e-01    -3.216186e-02    -1.156933e-03   \n",
       "max       1.358909e+01     1.857094e+00     3.109273e+01     8.643541e+02   \n",
       "\n",
       "       GEBAEUDETYP_6.0  GEBAEUDETYP_8.0        DECADE      MOVEMENT  \\\n",
       "count     7.471090e+05     7.471090e+05  7.471090e+05  7.471090e+05   \n",
       "mean     -4.717239e-18     3.066206e-17 -2.890641e-16 -9.446842e-17   \n",
       "std       1.000001e+00     1.000001e+00  1.000001e+00  1.000001e+00   \n",
       "min      -2.639131e-02    -4.935252e-01 -2.289151e+00 -1.864378e+00   \n",
       "25%      -2.639131e-02    -4.935252e-01 -9.240556e-01  5.363720e-01   \n",
       "50%      -2.639131e-02    -4.935252e-01 -2.415080e-01  5.363720e-01   \n",
       "75%      -2.639131e-02    -4.935252e-01  1.123587e+00  5.363720e-01   \n",
       "max       3.789127e+01     2.026239e+00  1.123587e+00  5.363720e-01   \n",
       "\n",
       "             WEALTH    LIFE_STAGE  \n",
       "count  7.471090e+05  7.471090e+05  \n",
       "mean   9.225246e-17 -5.775765e-17  \n",
       "std    1.000001e+00  1.000001e+00  \n",
       "min   -1.561811e+00 -1.249676e+00  \n",
       "25%   -8.802124e-01 -1.249676e+00  \n",
       "50%    4.829850e-01  8.934848e-02  \n",
       "75%    1.164584e+00  7.588608e-01  \n",
       "max    1.164584e+00  1.428373e+00  \n",
       "\n",
       "[8 rows x 107 columns]"
      ]
     },
     "execution_count": 47,
     "metadata": {},
     "output_type": "execute_result"
    }
   ],
   "source": [
    "azdias_scaled.describe()"
   ]
  },
  {
   "cell_type": "markdown",
   "metadata": {},
   "source": [
    "### Discussion 2.1: Apply Feature Scaling  <a name=\"disc21\"></a>\n",
    "\n",
    "**Since we still had *some* NaN values in our dataset (though we removed a vast majority of them during our cleaning process), we needed to eliminate the rest of the NaNs before scaling our data to prepare for the machine learning processes coming up. In order to eliminate the NaNs for scaling, without removing meaningful data, I used the Imputer tool to replace all NaN values with each column's 'Mode'.**\n",
    "\n",
    "**Once imputed, I applied the StandardScaler function. This scaler standardizes the data by converting the mean to zero (0) and sets standard deviation to 1. By applying this same function to all values throughout the dataset, it removes the variance of different scales and measurements on our various features that could impact how the importance of different features are interpreted or weighted.**"
   ]
  },
  {
   "cell_type": "markdown",
   "metadata": {},
   "source": [
    "### Step 2.2: Perform Dimensionality Reduction  <a name=\"step22\"></a>\n",
    "\n",
    "On your scaled data, you are now ready to apply dimensionality reduction techniques.\n",
    "\n",
    "- Use sklearn's [PCA](http://scikit-learn.org/stable/modules/generated/sklearn.decomposition.PCA.html) class to apply principal component analysis on the data, thus finding the vectors of maximal variance in the data. To start, you should not set any parameters (so all components are computed) or set a number of components that is at least half the number of features (so there's enough features to see the general trend in variability).\n",
    "- Check out the ratio of variance explained by each principal component as well as the cumulative variance explained. Try plotting the cumulative or sequential values using matplotlib's [`plot()`](https://matplotlib.org/api/_as_gen/matplotlib.pyplot.plot.html) function. Based on what you find, select a value for the number of transformed features you'll retain for the clustering part of the project.\n",
    "- Once you've made a choice for the number of components to keep, make sure you re-fit a PCA instance to perform the decided-on transformation."
   ]
  },
  {
   "cell_type": "code",
   "execution_count": 48,
   "metadata": {},
   "outputs": [],
   "source": [
    "# Apply PCA to the data.\n",
    "pca = PCA()\n",
    "azdias_pca = pca.fit_transform(azdias_scaled)\n"
   ]
  },
  {
   "cell_type": "code",
   "execution_count": 49,
   "metadata": {},
   "outputs": [
    {
     "data": {
      "text/plain": [
       "array([  1.21597235e-01,   9.64863972e-02,   6.20743295e-02,\n",
       "         3.94460563e-02,   2.77232644e-02,   2.28306134e-02,\n",
       "         2.20911558e-02,   2.17074251e-02,   1.93625644e-02,\n",
       "         1.74658394e-02,   1.73689796e-02,   1.61354817e-02,\n",
       "         1.49444954e-02,   1.43418121e-02,   1.40116392e-02,\n",
       "         1.32236382e-02,   1.30808813e-02,   1.26711506e-02,\n",
       "         1.22832451e-02,   1.20472451e-02,   1.19218105e-02,\n",
       "         1.14929669e-02,   1.14451045e-02,   1.11645191e-02,\n",
       "         1.08257580e-02,   1.04827589e-02,   1.03235536e-02,\n",
       "         1.02287442e-02,   1.00416580e-02,   9.85987141e-03,\n",
       "         9.75276773e-03,   9.57078657e-03,   9.51576905e-03,\n",
       "         9.39835976e-03,   9.35913266e-03,   9.34765098e-03,\n",
       "         9.33286688e-03,   9.13237469e-03,   9.00548246e-03,\n",
       "         8.69753269e-03,   8.59074310e-03,   8.52584940e-03,\n",
       "         8.30657661e-03,   7.93840461e-03,   7.63817034e-03,\n",
       "         7.51513540e-03,   7.47199776e-03,   7.19610160e-03,\n",
       "         6.97987956e-03,   6.78024833e-03,   6.51381939e-03,\n",
       "         6.27033428e-03,   5.99208879e-03,   5.46817186e-03,\n",
       "         5.30712650e-03,   4.99725084e-03,   4.42094025e-03,\n",
       "         4.36073508e-03,   4.16679598e-03,   4.13814891e-03,\n",
       "         3.95802870e-03,   3.82616293e-03,   3.69996510e-03,\n",
       "         3.55465095e-03,   3.52333956e-03,   3.30555136e-03,\n",
       "         3.20330087e-03,   3.04851891e-03,   2.86363247e-03,\n",
       "         2.77289128e-03,   2.62311749e-03,   2.58500501e-03,\n",
       "         2.44855888e-03,   2.41717346e-03,   2.38910937e-03,\n",
       "         2.24700737e-03,   2.17857123e-03,   2.06937361e-03,\n",
       "         1.96051625e-03,   1.94019163e-03,   1.85730550e-03,\n",
       "         1.72162665e-03,   1.69253471e-03,   1.65171604e-03,\n",
       "         1.60058121e-03,   1.57808406e-03,   1.55190265e-03,\n",
       "         1.41350161e-03,   1.34036666e-03,   1.25624983e-03,\n",
       "         1.15754980e-03,   1.12388530e-03,   1.02913000e-03,\n",
       "         8.88029018e-04,   8.47604145e-04,   7.36006069e-04,\n",
       "         7.32046823e-04,   4.66586204e-04,   3.17997980e-04,\n",
       "         5.11932117e-05,   8.68079819e-26,   2.85761921e-27,\n",
       "         9.74958755e-28,   4.09657535e-28,   2.74632429e-28,\n",
       "         1.14885420e-28,   1.49621749e-29])"
      ]
     },
     "execution_count": 49,
     "metadata": {},
     "output_type": "execute_result"
    }
   ],
   "source": [
    "# Investigate the variance accounted for by each principal component.\n",
    "pca.explained_variance_ratio_\n"
   ]
  },
  {
   "cell_type": "code",
   "execution_count": 50,
   "metadata": {},
   "outputs": [],
   "source": [
    "# Create a scree plotting function for our pca results\n",
    "def my_scree_plot(pca):\n",
    "    counts=len(pca.explained_variance_ratio_)\n",
    "    ind = np.arange(counts)\n",
    "    vals = pca.explained_variance_ratio_\n",
    "\n",
    "    plt.figure(figsize=(20, 12))\n",
    "    subplt = plt.subplot(111)\n",
    "    cum_vals = np.cumsum(vals)\n",
    "    subplt.bar(ind, vals)\n",
    "    subplt.plot(ind, cum_vals)\n",
    "    for i in range(counts):\n",
    "        subplt.annotate(r\"%s%%\" % ((str(vals[i]*100)[:4])), (ind[i]+0.2, vals[i]), va=\"bottom\", ha=\"center\", fontsize=12)\n",
    "\n",
    "    subplt.xaxis.set_tick_params(width=0)\n",
    "    subplt.yaxis.set_tick_params(width=2, length=12)\n",
    "\n",
    "    subplt.set_xlabel(\"Principal Components\")\n",
    "    subplt.set_ylabel(\"Percentage of Variance\")\n",
    "    plt.title('Percent of Variance Per Principal Component');"
   ]
  },
  {
   "cell_type": "code",
   "execution_count": 51,
   "metadata": {},
   "outputs": [
    {
     "data": {
      "image/png": "[encoded data removed]",
      "text/plain": [
       "<matplotlib.figure.Figure at 0x7f50d25d09b0>"
      ]
     },
     "metadata": {
      "needs_background": "light"
     },
     "output_type": "display_data"
    }
   ],
   "source": [
    "my_scree_plot(pca)"
   ]
  },
  {
   "cell_type": "code",
   "execution_count": 52,
   "metadata": {
    "scrolled": false
   },
   "outputs": [
    {
     "data": {
      "image/png": "[encoded data removed]",
      "text/plain": [
       "<matplotlib.figure.Figure at 0x7f50d2755c18>"
      ]
     },
     "metadata": {
      "needs_background": "light"
     },
     "output_type": "display_data"
    }
   ],
   "source": [
    "# Re-apply PCA to the data while selecting for number of components to retain.\n",
    "pca_75 = PCA(n_components=75)\n",
    "azdias_pca75 = pca_75.fit_transform(azdias_scaled)\n",
    "my_scree_plot(pca_75)"
   ]
  },
  {
   "cell_type": "code",
   "execution_count": 53,
   "metadata": {},
   "outputs": [
    {
     "data": {
      "image/png": "[encoded data removed]",
      "text/plain": [
       "<matplotlib.figure.Figure at 0x7f50d2bfd9e8>"
      ]
     },
     "metadata": {
      "needs_background": "light"
     },
     "output_type": "display_data"
    }
   ],
   "source": [
    "pca_50 = PCA(n_components=50)\n",
    "azdias_pca50 = pca_50.fit_transform(azdias_scaled)\n",
    "my_scree_plot(pca_50)"
   ]
  },
  {
   "cell_type": "code",
   "execution_count": 54,
   "metadata": {},
   "outputs": [
    {
     "data": {
      "text/plain": [
       "(747109, 50)"
      ]
     },
     "execution_count": 54,
     "metadata": {},
     "output_type": "execute_result"
    }
   ],
   "source": [
    "azdias_pca50.shape"
   ]
  },
  {
   "cell_type": "markdown",
   "metadata": {},
   "source": [
    "### Discussion 2.2: Perform Dimensionality Reduction  <a name=\"disc22\"></a>\n",
    "\n",
    "**After viewing skree plots of several different component counts of PCA, I feel that the original (full dataset) plot shows that the most substantial increase in variance tapers off around the 50 feature mark. I don't want to overfit the model by making it larger than that, so chose to work with 50 clusters.**"
   ]
  },
  {
   "cell_type": "markdown",
   "metadata": {},
   "source": [
    "### Step 2.3: Interpret Principal Components <a name=\"step23\"></a>\n",
    "\n",
    "Now that we have our transformed principal components, it's a nice idea to check out the weight of each variable on the first few components to see if they can be interpreted in some fashion.\n",
    "\n",
    "As a reminder, each principal component is a unit vector that points in the direction of highest variance (after accounting for the variance captured by earlier principal components). The further a weight is from zero, the more the principal component is in the direction of the corresponding feature. If two features have large weights of the same sign (both positive or both negative), then increases in one tend expect to be associated with increases in the other. To contrast, features with different signs can be expected to show a negative correlation: increases in one variable should result in a decrease in the other.\n",
    "\n",
    "- To investigate the features, you should map each weight to their corresponding feature name, then sort the features according to weight. The most interesting features for each principal component, then, will be those at the beginning and end of the sorted list. Use the data dictionary document to help you understand these most prominent features, their relationships, and what a positive or negative value on the principal component might indicate.\n",
    "- You should investigate and interpret feature associations from the first three principal components in this substep. To help facilitate this, you should write a function that you can call at any time to print the sorted list of feature weights, for the *i*-th principal component. This might come in handy in the next step of the project, when you interpret the tendencies of the discovered clusters."
   ]
  },
  {
   "cell_type": "code",
   "execution_count": 55,
   "metadata": {},
   "outputs": [],
   "source": [
    "# Map weights for the first principal component to corresponding feature names\n",
    "# and then print the linked values, sorted by weight.\n",
    "# HINT: Try defining a function here or in a new cell that you can reuse in the\n",
    "# other cells.\n",
    "\n",
    "def map_pc_weights(pca, comp_num, features):\n",
    "    \n",
    "    results = 5\n",
    "    \n",
    "    if(comp_num <= len(pca.components_)):\n",
    "        feat_map = pd.DataFrame({'weight': pca.components_[comp_num],\n",
    "                                 'name': features})\n",
    "        feat_map = feat_map.sort_values(by='weight', ascending=False)\n",
    "        \n",
    "        print('== PC {} == \\n Highest Weighted Features \\n {} \\n'.format(comp_num+1, feat_map.iloc[:results,:]))\n",
    "        print('Lowest Weighted Features \\n {}'.format(feat_map.iloc[-results:,:]))\n",
    "    else:\n",
    "        print('That is not a valid component number. Please try again.')"
   ]
  },
  {
   "cell_type": "code",
   "execution_count": 56,
   "metadata": {},
   "outputs": [
    {
     "name": "stdout",
     "output_type": "stream",
     "text": [
      "== PC 1 == \n",
      " Highest Weighted Features \n",
      "        weight                name\n",
      "76   0.200416  LP_STATUS_GROB_1.0\n",
      "52   0.185492          PLZ8_ANTG3\n",
      "28   0.184785  HH_EINKOMMEN_SCORE\n",
      "53   0.180203          PLZ8_ANTG4\n",
      "105  0.174998              WEALTH \n",
      "\n",
      "Lowest Weighted Features \n",
      "       weight               name\n",
      "40 -0.185161          KBA05_GBZ\n",
      "50 -0.186049         PLZ8_ANTG1\n",
      "36 -0.191933        KBA05_ANTG1\n",
      "46 -0.203388         MOBI_REGIO\n",
      "2  -0.218888  FINANZ_MINIMALIST\n"
     ]
    }
   ],
   "source": [
    "map_pc_weights(pca_50, 0, azdias_scaled.columns)"
   ]
  },
  {
   "cell_type": "code",
   "execution_count": 57,
   "metadata": {},
   "outputs": [
    {
     "name": "stdout",
     "output_type": "stream",
     "text": [
      "== PC 2 == \n",
      " Highest Weighted Features \n",
      "       weight                  name\n",
      "0   0.215055  ALTERSKATEGORIE_GROB\n",
      "92  0.202505            ZABEOTYP_3\n",
      "4   0.199273      FINANZ_VORSORGER\n",
      "17  0.185437             SEMIO_ERL\n",
      "10  0.153316        RETOURTYP_BK_S \n",
      "\n",
      "Lowest Weighted Features \n",
      "        weight                   name\n",
      "24  -0.196835            SEMIO_TRADV\n",
      "3   -0.198510          FINANZ_SPARER\n",
      "6   -0.202432  FINANZ_UNAUFFAELLIGER\n",
      "13  -0.209842              SEMIO_REL\n",
      "103 -0.211388                 DECADE\n"
     ]
    }
   ],
   "source": [
    "# Map weights for the second principal component to corresponding feature names\n",
    "# and then print the linked values, sorted by weight.\n",
    "\n",
    "map_pc_weights(pca_50, 1, azdias_scaled.columns)"
   ]
  },
  {
   "cell_type": "code",
   "execution_count": 58,
   "metadata": {},
   "outputs": [
    {
     "name": "stdout",
     "output_type": "stream",
     "text": [
      "== PC 3 == \n",
      " Highest Weighted Features \n",
      "       weight         name\n",
      "15  0.326838   SEMIO_VERT\n",
      "11  0.258284    SEMIO_SOZ\n",
      "12  0.255944    SEMIO_FAM\n",
      "18  0.240406   SEMIO_KULT\n",
      "69  0.143118  FINANZTYP_5 \n",
      "\n",
      "Lowest Weighted Features \n",
      "       weight        name\n",
      "17 -0.192907   SEMIO_ERL\n",
      "20 -0.263843  SEMIO_KRIT\n",
      "21 -0.293847   SEMIO_DOM\n",
      "22 -0.322397  SEMIO_KAEM\n",
      "1  -0.351697   ANREDE_KZ\n"
     ]
    }
   ],
   "source": [
    "# Map weights for the third principal component to corresponding feature names\n",
    "# and then print the linked values, sorted by weight.\n",
    "\n",
    "map_pc_weights(pca_50, 2, azdias_scaled.columns)"
   ]
  },
  {
   "cell_type": "markdown",
   "metadata": {},
   "source": [
    "## Discussion 2.3: Interpret Principal Components  <a name=\"disc23\"></a>\n",
    "\n",
    "**1. Principal Component 1**\n",
    "   - Highest Weighted Features:\n",
    "        - Social Status (financial - earner levels / homeowner status)\n",
    "        - Number of 6-10 family houses in the PLZ8 region\n",
    "        - Estimated household net income (financial - income levels)\n",
    "        - Number of 10+ family houses in the PLZ8 region\n",
    "        - Household wealth (financial levels)\n",
    "   - Lowest Weighted Features:\n",
    "        - Number of buildings in the microcell\n",
    "        - Number of 1-2 family houses in the PLZ8 region\n",
    "        - Number of 1-2 family houses in the microcell\n",
    "        - Movement patterns (low to high)\n",
    "        - Minimalist (low financial interest)\n",
    "    \n",
    "Right away from the highest and lowest, we can see a number of opposing-type values - heavy weighted in the financial status and wealth levels, and then lower weighted is the minimalist values. We can also see different neighborhood/building styles between the high and low weights.\n",
    "    \n",
    "**2. Principal Component 2**\n",
    "   - Highest Weighted Features:\n",
    "        - Estimated age based on given name analysis\n",
    "        - Energy consumption typology\n",
    "        - Financial Typology \"Be Prepared\"\n",
    "        - Personality Typology \"Event Oriented\"\n",
    "        - Return Shopper type (low to high)\n",
    "   - Lowest Weighted Features:\n",
    "        - Personality Typology \"Traditional Minded\"\n",
    "        - Financial Typology \"Money-Saver\"\n",
    "        - Financial Typology \"Inconspicuous\"\n",
    "        - Personality Typology \"Religious\"\n",
    "        - Dominating movement of person's youth by decade\n",
    "\n",
    "Here we're seeing more specific traits of the shoppers show up with some being highly weighted, and others, some of which could be considered opposing features, are negatively weighted. \n",
    "\n",
    "**3. Principal Component 3**\n",
    "   - Highest Weighted Features:\n",
    "        - Personality Typology \"Dreamful\"\n",
    "        - Personality Typology \"Socially Minded\"\n",
    "        - Personality Typology \"Family Minded\"\n",
    "        - Personality Typology \"Cultural Minded\"\n",
    "        - Most descriptive financial type for individual\n",
    "   - Lowest Weighted Features:\n",
    "        - Personality Typology \"Event-Oriented\"\n",
    "        - Personality Typology \"Critical Minded\"\n",
    "        - Personality Typology \"Dominant Minded\"\n",
    "        - Personality Typology \"Combative Attitude\"\n",
    "        - Gender\n",
    "    \n",
    "In the third principal component, our heavy weights and their opposing weight values are almost entirely from the Personality Typology. These typologies' weights (highest and lowest) do seem to be opposing types, so it's not out of the realm of possibility, though it does seem that these types are dominating a lot in this third principal, and it would be interesting to find out more about why this is."
   ]
  },
  {
   "cell_type": "markdown",
   "metadata": {},
   "source": [
    "## Step 3: Clustering <a name=\"step3\"></a>\n",
    "[(return to TOC)](#toc)\n",
    "\n",
    "### Step 3.1: Apply Clustering to General Population <a name=\"step31\"></a>\n",
    "\n",
    "You've assessed and cleaned the demographics data, then scaled and transformed them. Now, it's time to see how the data clusters in the principal components space. In this substep, you will apply k-means clustering to the dataset and use the average within-cluster distances from each point to their assigned cluster's centroid to decide on a number of clusters to keep.\n",
    "\n",
    "- Use sklearn's [KMeans](http://scikit-learn.org/stable/modules/generated/sklearn.cluster.KMeans.html#sklearn.cluster.KMeans) class to perform k-means clustering on the PCA-transformed data.\n",
    "- Then, compute the average difference from each point to its assigned cluster's center. **Hint**: The KMeans object's `.score()` method might be useful here, but note that in sklearn, scores tend to be defined so that larger is better. Try applying it to a small, toy dataset, or use an internet search to help your understanding.\n",
    "- Perform the above two steps for a number of different cluster counts. You can then see how the average distance decreases with an increasing number of clusters. However, each additional cluster provides a smaller net benefit. Use this fact to select a final number of clusters in which to group the data. **Warning**: because of the large size of the dataset, it can take a long time for the algorithm to resolve. The more clusters to fit, the longer the algorithm will take. You should test for cluster counts through at least 10 clusters to get the full picture, but you shouldn't need to test for a number of clusters above about 30.\n",
    "- Once you've selected a final number of clusters to use, re-fit a KMeans instance to perform the clustering operation. Make sure that you also obtain the cluster assignments for the general demographics data, since you'll be using them in the final Step 3.3."
   ]
  },
  {
   "cell_type": "code",
   "execution_count": 59,
   "metadata": {},
   "outputs": [],
   "source": [
    "# Create KMeans function for easier analysis\n",
    "\n",
    "def apply_kmeans(df, centers):\n",
    "    kmeans = KMeans(centers)\n",
    "    model = kmeans.fit(df)\n",
    "    score = np.abs(model.score(df))\n",
    "    return score"
   ]
  },
  {
   "cell_type": "code",
   "execution_count": 60,
   "metadata": {},
   "outputs": [
    {
     "data": {
      "text/plain": [
       "Text(0.5,1,'Score for each Cluster Count')"
      ]
     },
     "execution_count": 60,
     "metadata": {},
     "output_type": "execute_result"
    },
    {
     "data": {
      "image/png": "[encoded data removed]",
      "text/plain": [
       "<matplotlib.figure.Figure at 0x7f50d282e4a8>"
      ]
     },
     "metadata": {
      "needs_background": "light"
     },
     "output_type": "display_data"
    }
   ],
   "source": [
    "# Over a number of different cluster counts...\n",
    "# run k-means clustering on the data and...\n",
    "# compute the average within-cluster distances.\n",
    "\n",
    "scores = []\n",
    "centers = list(range(3, 25))\n",
    "\n",
    "for i in centers:\n",
    "    scores.append(apply_kmeans(azdias_scaled, i))\n",
    "    \n",
    "# Investigate the change in within-cluster distance across number of clusters.\n",
    "# HINT: Use matplotlib's plot function to visualize this relationship.\n",
    "\n",
    "plt.plot(centers, scores, linestyle='--', marker='o', color='b')\n",
    "plt.xlabel('Number of Cluster Centers')\n",
    "plt.ylabel('KMeans Score')\n",
    "plt.title('Score for each Cluster Count')    "
   ]
  },
  {
   "cell_type": "code",
   "execution_count": 61,
   "metadata": {},
   "outputs": [],
   "source": [
    "# Re-fit the k-means model with the selected number of clusters and obtain\n",
    "# cluster predictions for the general population demographics data.\n",
    "\n",
    "kmeans = KMeans(n_clusters=19) \n",
    "model = kmeans.fit(azdias_scaled)\n",
    "azdias_pred = model.predict(azdias_scaled)"
   ]
  },
  {
   "cell_type": "markdown",
   "metadata": {},
   "source": [
    "# Discussion 3.1: Apply Clustering to General Population  <a name=\"disc31\"></a>\n",
    "\n",
    "**I applied KMeans Clustering to our cleaned, standardized and fitted azdias dataset and tested out a number of different cluster counts above. I then used matplotlib to visualize the kmeans cluster count vs the scores given to \"find the elbow\". The elbow seems to appear at around 16 clusters, so I then re-fit the Kmeans model with 16 clusters to our general population as the official model cluster count.**"
   ]
  },
  {
   "cell_type": "markdown",
   "metadata": {},
   "source": [
    "### Step 3.2: Apply All Steps to the Customer Data <a name=\"step32\"></a>\n",
    "Now that you have clusters and cluster centers for the general population, it's time to see how the customer data maps on to those clusters. Take care to not confuse this for re-fitting all of the models to the customer data. Instead, you're going to use the fits from the general population to clean, transform, and cluster the customer data. In the last step of the project, you will interpret how the general population fits apply to the customer data.\n",
    "\n",
    "- Don't forget when loading in the customers data, that it is semicolon (`;`) delimited.\n",
    "- Apply the same feature wrangling, selection, and engineering steps to the customer demographics using the `clean_data()` function you created earlier. (You can assume that the customer demographics data has similar meaning behind missing data patterns as the general demographics data.)\n",
    "- Use the sklearn objects from the general demographics data, and apply their transformations to the customers data. That is, you should not be using a `.fit()` or `.fit_transform()` method to re-fit the old objects, nor should you be creating new sklearn objects! Carry the data through the feature scaling, PCA, and clustering steps, obtaining cluster assignments for all of the data in the customer demographics data."
   ]
  },
  {
   "cell_type": "code",
   "execution_count": 62,
   "metadata": {},
   "outputs": [],
   "source": [
    "# Load in the customer demographics data (Udacity_CUSTOMERS_Subset.csv)\n",
    "customers = pd.read_csv('Udacity_CUSTOMERS_Subset.csv', sep=';')"
   ]
  },
  {
   "cell_type": "code",
   "execution_count": 63,
   "metadata": {},
   "outputs": [
    {
     "data": {
      "text/plain": [
       "['AGER_TYP',\n",
       " 'ALTERSKATEGORIE_GROB',\n",
       " 'ANREDE_KZ',\n",
       " 'CJT_GESAMTTYP',\n",
       " 'FINANZ_MINIMALIST',\n",
       " 'FINANZ_SPARER',\n",
       " 'FINANZ_VORSORGER',\n",
       " 'FINANZ_ANLEGER',\n",
       " 'FINANZ_UNAUFFAELLIGER',\n",
       " 'FINANZ_HAUSBAUER',\n",
       " 'FINANZTYP',\n",
       " 'GEBURTSJAHR',\n",
       " 'GFK_URLAUBERTYP',\n",
       " 'GREEN_AVANTGARDE',\n",
       " 'HEALTH_TYP',\n",
       " 'LP_LEBENSPHASE_FEIN',\n",
       " 'LP_LEBENSPHASE_GROB',\n",
       " 'LP_FAMILIE_FEIN',\n",
       " 'LP_FAMILIE_GROB',\n",
       " 'LP_STATUS_FEIN',\n",
       " 'LP_STATUS_GROB',\n",
       " 'NATIONALITAET_KZ',\n",
       " 'PRAEGENDE_JUGENDJAHRE',\n",
       " 'RETOURTYP_BK_S',\n",
       " 'SEMIO_SOZ',\n",
       " 'SEMIO_FAM',\n",
       " 'SEMIO_REL',\n",
       " 'SEMIO_MAT',\n",
       " 'SEMIO_VERT',\n",
       " 'SEMIO_LUST',\n",
       " 'SEMIO_ERL',\n",
       " 'SEMIO_KULT',\n",
       " 'SEMIO_RAT',\n",
       " 'SEMIO_KRIT',\n",
       " 'SEMIO_DOM',\n",
       " 'SEMIO_KAEM',\n",
       " 'SEMIO_PFLICHT',\n",
       " 'SEMIO_TRADV',\n",
       " 'SHOPPER_TYP',\n",
       " 'SOHO_KZ',\n",
       " 'TITEL_KZ',\n",
       " 'VERS_TYP',\n",
       " 'ZABEOTYP',\n",
       " 'ALTER_HH',\n",
       " 'ANZ_PERSONEN',\n",
       " 'ANZ_TITEL',\n",
       " 'HH_EINKOMMEN_SCORE',\n",
       " 'KK_KUNDENTYP',\n",
       " 'W_KEIT_KIND_HH',\n",
       " 'WOHNDAUER_2008',\n",
       " 'ANZ_HAUSHALTE_AKTIV',\n",
       " 'ANZ_HH_TITEL',\n",
       " 'GEBAEUDETYP',\n",
       " 'KONSUMNAEHE',\n",
       " 'MIN_GEBAEUDEJAHR',\n",
       " 'OST_WEST_KZ',\n",
       " 'WOHNLAGE',\n",
       " 'CAMEO_DEUG_2015',\n",
       " 'CAMEO_DEU_2015',\n",
       " 'CAMEO_INTL_2015',\n",
       " 'KBA05_ANTG1',\n",
       " 'KBA05_ANTG2',\n",
       " 'KBA05_ANTG3',\n",
       " 'KBA05_ANTG4',\n",
       " 'KBA05_BAUMAX',\n",
       " 'KBA05_GBZ',\n",
       " 'BALLRAUM',\n",
       " 'EWDICHTE',\n",
       " 'INNENSTADT',\n",
       " 'GEBAEUDETYP_RASTER',\n",
       " 'KKK',\n",
       " 'MOBI_REGIO',\n",
       " 'ONLINE_AFFINITAET',\n",
       " 'REGIOTYP',\n",
       " 'KBA13_ANZAHL_PKW',\n",
       " 'PLZ8_ANTG1',\n",
       " 'PLZ8_ANTG2',\n",
       " 'PLZ8_ANTG3',\n",
       " 'PLZ8_ANTG4',\n",
       " 'PLZ8_BAUMAX',\n",
       " 'PLZ8_HHZ',\n",
       " 'PLZ8_GBZ',\n",
       " 'ARBEIT',\n",
       " 'ORTSGR_KLS9',\n",
       " 'RELAT_AB']"
      ]
     },
     "execution_count": 63,
     "metadata": {},
     "output_type": "execute_result"
    }
   ],
   "source": [
    "list(customers.columns)"
   ]
  },
  {
   "cell_type": "code",
   "execution_count": 64,
   "metadata": {},
   "outputs": [
    {
     "name": "stdout",
     "output_type": "stream",
     "text": [
      "Total naturally NaN datapoints: 4896838\n",
      "\n",
      "Now converting all missing values to NaNs...\n",
      "Total NaN datapoints after conversion: 3112918\n",
      "This is 860644 new NaN values than the naturally occurring NaNs we started with.\n",
      "\n",
      "Now removing superfluous columns and rows...\n",
      "Superfluous column and row removal complete.\n",
      "New df.shape is: (133427, 79)\n",
      "\n",
      "Now making adjustments to categorical variables for evaluation...\n",
      "All adjustments to categorical variables are complete.\n",
      "Final df.shape is: (133427, 106)\n",
      "\n"
     ]
    }
   ],
   "source": [
    "# Apply preprocessing, feature transformation, and clustering from the general\n",
    "# demographics onto the customer data, obtaining cluster predictions for the\n",
    "# customer demographics data.\n",
    "\n",
    "cust_clean = clean_data(customers)"
   ]
  },
  {
   "cell_type": "code",
   "execution_count": 65,
   "metadata": {},
   "outputs": [
    {
     "name": "stdout",
     "output_type": "stream",
     "text": [
      "GEBAEUDETYP_5.0\n"
     ]
    }
   ],
   "source": [
    "# Check for matching columns between the datasets to ensure valid modeling\n",
    "for column in azdias_scaled.columns:\n",
    "    if column not in cust_clean.columns:\n",
    "        print(column)"
   ]
  },
  {
   "cell_type": "code",
   "execution_count": 66,
   "metadata": {},
   "outputs": [],
   "source": [
    "# Create missing column in customer dataset, set to 0 as \"standardized mean\"\n",
    "cust_clean['GEBAEUDETYP_5.0'] = 0"
   ]
  },
  {
   "cell_type": "code",
   "execution_count": 68,
   "metadata": {},
   "outputs": [],
   "source": [
    "# Impute customer df to transform all NaN to Mode\n",
    "cust_scaled = pca.transform(std_scaler.transform(imputer.transform(cust_clean)))"
   ]
  },
  {
   "cell_type": "code",
   "execution_count": 69,
   "metadata": {},
   "outputs": [],
   "source": [
    "# Apply the pre-built kmeans model from the azdias dataset to the customer dataset\n",
    "cust_pred = model.predict(cust_scaled) "
   ]
  },
  {
   "cell_type": "markdown",
   "metadata": {},
   "source": [
    "### Step 3.3: Compare Customer Data to Demographics Data  <a name=\"step33\"></a>\n",
    "\n",
    "At this point, you have clustered data based on demographics of the general population of Germany, and seen how the customer data for a mail-order sales company maps onto those demographic clusters. In this final substep, you will compare the two cluster distributions to see where the strongest customer base for the company is.\n",
    "\n",
    "Consider the proportion of persons in each cluster for the general population, and the proportions for the customers. If we think the company's customer base to be universal, then the cluster assignment proportions should be fairly similar between the two. If there are only particular segments of the population that are interested in the company's products, then we should see a mismatch from one to the other. If there is a higher proportion of persons in a cluster for the customer data compared to the general population (e.g. 5% of persons are assigned to a cluster for the general population, but 15% of the customer data is closest to that cluster's centroid) then that suggests the people in that cluster to be a target audience for the company. On the other hand, the proportion of the data in a cluster being larger in the general population than the customer data (e.g. only 2% of customers closest to a population centroid that captures 6% of the data) suggests that group of persons to be outside of the target demographics.\n",
    "\n",
    "Take a look at the following points in this step:\n",
    "\n",
    "- Compute the proportion of data points in each cluster for the general population and the customer data. Visualizations will be useful here: both for the individual dataset proportions, but also to visualize the ratios in cluster representation between groups. Seaborn's [`countplot()`](https://seaborn.pydata.org/generated/seaborn.countplot.html) or [`barplot()`](https://seaborn.pydata.org/generated/seaborn.barplot.html) function could be handy.\n",
    "  - Recall the analysis you performed in step 1.1.3 of the project, where you separated out certain data points from the dataset if they had more than a specified threshold of missing values. If you found that this group was qualitatively different from the main bulk of the data, you should treat this as an additional data cluster in this analysis. Make sure that you account for the number of data points in this subset, for both the general population and customer datasets, when making your computations!\n",
    "- Which cluster or clusters are overrepresented in the customer dataset compared to the general population? Select at least one such cluster and infer what kind of people might be represented by that cluster. Use the principal component interpretations from step 2.3 or look at additional components to help you make this inference. Alternatively, you can use the `.inverse_transform()` method of the PCA and StandardScaler objects to transform centroids back to the original data space and interpret the retrieved values directly.\n",
    "- Perform a similar investigation for the underrepresented clusters. Which cluster or clusters are underrepresented in the customer dataset compared to the general population, and what kinds of people are typified by these clusters?"
   ]
  },
  {
   "cell_type": "code",
   "execution_count": 74,
   "metadata": {},
   "outputs": [
    {
     "data": {
      "image/png": "[encoded data removed]",
      "text/plain": [
       "<matplotlib.figure.Figure at 0x7f50d2426a90>"
      ]
     },
     "metadata": {
      "needs_background": "light"
     },
     "output_type": "display_data"
    }
   ],
   "source": [
    "# Compare the proportion of data in each cluster for the customer data to the\n",
    "# proportion of data in each cluster for the general population.\n",
    "\n",
    "#figure, axs = plt.subplots(1,2,figsize = (10,5))\n",
    "#figure.subplots_adjust(hspace = 1, wspace=.5)    \n",
    "#sns.countplot(customers_pred, ax=axs[0])\n",
    "#axs[0].set_title('Customer Clusters')\n",
    "#sns.countplot(azdias_pred, ax=axs[1])\n",
    "#axs[1].set_title('General Clusters');\n",
    "\n",
    "#--OR--\n",
    "\n",
    "gen_props = []\n",
    "cust_props = []\n",
    "x = [i+1 for i in range(16)]\n",
    "for i in range(16):\n",
    "    gen_props.append((azdias_pred == i).sum()/len(azdias_pred))\n",
    "    cust_props.append((cust_pred == i).sum()/len(cust_pred))\n",
    "\n",
    "\n",
    "df_gen = pd.DataFrame({'cluster' : x, 'gen_props' : gen_props, 'cust_props':cust_props})\n",
    "\n",
    "df_gen.plot(x='cluster', y = ['gen_props', 'cust_props'], kind='bar', figsize=(9,6))\n",
    "plt.title('Comparison of General and Customer Proportions')\n",
    "plt.xlabel('Each PCA Cluster')\n",
    "plt.ylabel('Proportion of Persons per Cluster')\n",
    "plt.show()"
   ]
  },
  {
   "cell_type": "code",
   "execution_count": 78,
   "metadata": {},
   "outputs": [
    {
     "name": "stdout",
     "output_type": "stream",
     "text": [
      "== PC 5 == \n",
      " Highest Weighted Features \n",
      "       weight                 name\n",
      "26  0.306905         ANZ_PERSONEN\n",
      "75  0.254895  LP_FAMILIE_GROB_5.0\n",
      "45  0.220168                  KKK\n",
      "70  0.215436          FINANZTYP_6\n",
      "47  0.175841    ONLINE_AFFINITAET \n",
      "\n",
      "Lowest Weighted Features \n",
      "       weight                 name\n",
      "54 -0.214316             PLZ8_HHZ\n",
      "55 -0.234586             PLZ8_GBZ\n",
      "49 -0.242595     KBA13_ANZAHL_PKW\n",
      "29 -0.279382       W_KEIT_KIND_HH\n",
      "71 -0.300372  LP_FAMILIE_GROB_1.0\n"
     ]
    }
   ],
   "source": [
    "# What kinds of people are part of a cluster that is overrepresented in the\n",
    "# customer data compared to the general population?\n",
    "over_rep = 4\n",
    "map_pc_weights(pca_50, over_rep, azdias_scaled.columns)"
   ]
  },
  {
   "cell_type": "code",
   "execution_count": 81,
   "metadata": {},
   "outputs": [
    {
     "name": "stdout",
     "output_type": "stream",
     "text": [
      "== PC 12 == \n",
      " Highest Weighted Features \n",
      "       weight                name\n",
      "70  0.242942         FINANZTYP_6\n",
      "84  0.181868     SHOPPER_TYP_0.0\n",
      "39  0.179559         KBA05_ANTG4\n",
      "7   0.154314    FINANZ_HAUSBAUER\n",
      "44  0.154138  GEBAEUDETYP_RASTER \n",
      "\n",
      "Lowest Weighted Features \n",
      "       weight                   name\n",
      "6  -0.183340  FINANZ_UNAUFFAELLIGER\n",
      "37 -0.187245            KBA05_ANTG2\n",
      "78 -0.199654     LP_STATUS_GROB_3.0\n",
      "98 -0.204395        GEBAEUDETYP_3.0\n",
      "35 -0.253629            OST_WEST_KZ\n"
     ]
    }
   ],
   "source": [
    "# What kinds of people are part of a cluster that is underrepresented in the\n",
    "# customer data compared to the general population?\n",
    "under_rep = 11\n",
    "map_pc_weights(pca_50, under_rep, azdias_scaled.columns)"
   ]
  },
  {
   "cell_type": "markdown",
   "metadata": {},
   "source": [
    "### Discussion 3.3: Compare Customer Data to Demographics Data  <a name=\"disc33\"></a>\n",
    "\n",
    "It looks like most of our customer relate (very strongly) to the demographic captured in Cluster #5. From the highest and lowest weighted features, we have a demographic made up of a multi-person household made up of more adults, some connection with their purchasing power in the region, a connection to financial typology of 'inconspicuous' (seen also in the underrepresented cluster), and their 'online affinity'. The lowest weighted items in this cluster connected with things like neighborhood/regional counts of households, buildings, and cars, the likelihood of children in the household, and single individuals (no family).\n",
    "\n",
    "In one of our more under-represented segments (clusters) of the general population, the 12th cluster. From the highest and lowest weighted features, we have a demographic made up of a financial typology of 'inconspicuous', a shopper typology of 'external supplied hedonists', financial ties to home ownership, and a connection to the ratio of residential to commercial activity."
   ]
  },
  {
   "cell_type": "markdown",
   "metadata": {},
   "source": [
    "> Congratulations on making it this far in the project! Before you finish, make sure to check through the entire notebook from top to bottom to make sure that your analysis follows a logical flow and all of your findings are documented in **Discussion** cells. Once you've checked over all of your work, you should export the notebook as an HTML document to submit for evaluation. You can do this from the menu, navigating to **File -> Download as -> HTML (.html)**. You will submit both that document and this notebook for your project submission."
   ]
  },
  {
   "cell_type": "code",
   "execution_count": null,
   "metadata": {},
   "outputs": [],
   "source": []
  }
 ],
 "metadata": {
  "kernelspec": {
   "display_name": "Python 3",
   "language": "python",
   "name": "python3"
  },
  "language_info": {
   "codemirror_mode": {
    "name": "ipython",
    "version": 3
   },
   "file_extension": ".py",
   "mimetype": "text/x-python",
   "name": "python",
   "nbconvert_exporter": "python",
   "pygments_lexer": "ipython3",
   "version": "3.6.3"
  }
 },
 "nbformat": 4,
 "nbformat_minor": 2
}
