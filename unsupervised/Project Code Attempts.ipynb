{
 "cells": [
  {
   "cell_type": "markdown",
   "id": "42a74879-fdcb-4afe-b5c5-ee3d8a794f61",
   "metadata": {},
   "source": [
    "## Extra code bits I'm messing with"
   ]
  },
  {
   "cell_type": "markdown",
   "id": "4c8c718b-1e05-4df3-8590-8bc0295b7db5",
   "metadata": {},
   "source": [
    "## 1.1.1 - final code decision:"
   ]
  },
  {
   "cell_type": "code",
   "execution_count": null,
   "id": "258cd516-210f-400a-b0a1-eecaf72cdad7",
   "metadata": {},
   "outputs": [],
   "source": [
    "for i in feat_info.index:\n",
    "    feat_info.loc[i,'missing_or_unknown'] = feat_info.loc[i,'missing_or_unknown'].strip('[]').split(',')\n",
    "    for item in range(len(feat_info.loc[i,'missing_or_unknown'])):\n",
    "        try:\n",
    "            feat_info.loc[i,'missing_or_unknown'][item] = int(feat_info.loc[i,'missing_or_unknown'][item])\n",
    "        except:\n",
    "            continue\n",
    "    azdias.loc[:,(feat_info.loc[i, 'attribute'])].replace(feat_info.loc[i,'missing_or_unknown'], np.nan, inplace=True)"
   ]
  },
  {
   "cell_type": "code",
   "execution_count": null,
   "id": "787f28a4-28e6-4ac1-969a-86bac50cfacb",
   "metadata": {},
   "outputs": [],
   "source": []
  },
  {
   "cell_type": "markdown",
   "id": "f51a61ff-c060-497e-b67a-a74b0725bccb",
   "metadata": {},
   "source": [
    "My last code that wasn't working (so replaced with the above code)"
   ]
  },
  {
   "cell_type": "code",
   "execution_count": null,
   "id": "58d23fcd-2e31-4621-8a37-a0d0cfb2a9f7",
   "metadata": {},
   "outputs": [],
   "source": [
    "# 'X', 'XX', and '-1' are always 'unknown'\n",
    "#azdias_nan.replace('XX', np.NaN, inplace=True)\n",
    "#azdias_nan.replace('X', np.NaN, inplace=True)\n",
    "#azdias_nan.replace(-1, np.NaN, inplace=True)"
   ]
  },
  {
   "cell_type": "code",
   "execution_count": null,
   "id": "f69f6c03-8298-4e3c-a826-56975f6d85d9",
   "metadata": {},
   "outputs": [],
   "source": [
    "# New NaN count after first round of replace <- NaN\n",
    "#nan_step1 = azdias_nan.isna().sum().sum()\n",
    "#print('Total naturally NaN datapoints: {}'.format(nan_step1))\n",
    "#azdias_nan.head()"
   ]
  },
  {
   "cell_type": "raw",
   "id": "c8ffe058-8a97-43ac-9ce5-e86d4722cae6",
   "metadata": {},
   "source": [
    "# Identify missing or unknown data values and convert them to NaNs.   \n",
    "missing_vals_list = []\n",
    "\n",
    "for i in range(feat_info.shape[0]):\n",
    "    missing_val = feat_info.iloc[i]['missing_or_unknown']\n",
    "    missing_val = missing_val.strip('[]').split(',')\n",
    "    for value in missing_val:\n",
    "        if (value!='X' and value!='XX' and  value!=''):\n",
    "            missing_val = int(value)\n",
    "        else:\n",
    "            missing_val = value\n",
    "    missing_vals_list.append(missing_val)\n",
    "    column = feat_info.iloc[i]['attribute']\n",
    "    azdias_nan[column].replace(to_replace=missing_vals_list, value=np.NaN, regex=True, inplace=True)\n"
   ]
  },
  {
   "cell_type": "raw",
   "id": "0576fc5a-6ea3-4a01-aaf3-77bb3995f729",
   "metadata": {},
   "source": [
    "# Create a function to do this cleanup on all datasets (customer and general)\n",
    "def convert_missing_to_NaN(dataset):\n",
    "    \n",
    "    missing_vals_list = []    \n",
    "    \n",
    "    for i in range(feat_info.shape[0]):\n",
    "        missing_val = feat_info.iloc[i]['missing_or_unknown']\n",
    "        missing_val = missing_val.strip('[]').split(',')\n",
    "        for value in missing_val:\n",
    "            if (value!='X' and value!='XX' and value!=''):\n",
    "                missing_val = int(value)\n",
    "            else:\n",
    "                missing_val = value\n",
    "        missing_vals_list.append(missing_val)\n",
    "        column = feat_info.iloc[i]['attribute']\n",
    "        dataset[column].replace(to_replace=missing_vals_list, value=np.NaN, regex=True, inplace=True)\n",
    "\n",
    "convert_missing_to_NaN(azdias_nan)\n",
    "azdias_nan.head()"
   ]
  },
  {
   "cell_type": "markdown",
   "id": "be788dd2-73e1-4fb2-914b-53ae9d546fa5",
   "metadata": {},
   "source": [
    "Other code I tried, but failed on:"
   ]
  },
  {
   "cell_type": "code",
   "execution_count": null,
   "id": "b5c6ca3a-1219-4879-9550-87dd85854eb9",
   "metadata": {},
   "outputs": [],
   "source": [
    "# Identify missing or unknown data values and convert them to NaNs.   \n",
    "missing_vals_list = []\n",
    "\n",
    "for i in range(len(feat_info)):\n",
    "    missing_val = feat_info.iloc[i]['missing_or_unknown']\n",
    "    for j in missing_val:\n",
    "        missing_val = j.strip('[]').split(',')\n",
    "        for value in missing_val:\n",
    "            if (value!='X' and value!='XX' and  value!=''):\n",
    "                missing_val = int(value)\n",
    "            else:\n",
    "                missing_val = value\n",
    "        missing_vals_list.append(missing_val)\n",
    "        column = feat_info.iloc[i]['attribute']\n",
    "        azdias[column].replace(to_replace=missing_vals_list, value=np.NaN, regex=True, inplace=True)\n",
    "\n",
    "        \n",
    "\n",
    "        \n",
    "Error I get with above code: \n",
    "---------------------------------------------------------------------------\n",
    "ValueError                                Traceback (most recent call last)\n",
    "<ipython-input-45-b154abac607d> in <module>()\n",
    "      8         for value in missing_val:\n",
    "      9             if (value!='X' and value!='XX' and  value!=''):\n",
    "---> 10                 missing_val = int(value)\n",
    "     11             else:\n",
    "     12                 missing_val = value\n",
    "\n",
    "ValueError: invalid literal for int() with base 10: '-'"
   ]
  },
  {
   "cell_type": "code",
   "execution_count": null,
   "id": "07615270-ea0c-41b0-b643-e88a2b868513",
   "metadata": {},
   "outputs": [],
   "source": []
  },
  {
   "cell_type": "code",
   "execution_count": null,
   "id": "ceb9a679-9645-4c51-ba26-0b82d4641df2",
   "metadata": {},
   "outputs": [],
   "source": [
    "# turn missing_or_unknown to list \n",
    "\n",
    "\n",
    "for i in range(feat_info.shape[0]):\n",
    "    feat_info['missing_or_unknown'][i] = str(feat_info['missing_or_unknown'][i])\n",
    "\n",
    "feat_info['missing_or_unknown'] = feat_info['missing_or_unknown'].apply(lambda x: x[1:-1].split(','))\n",
    "\n",
    "# Identify missing or unknown data values and convert them to NaNs.\n",
    "for attrib, missing_values in zip(feat_info['attribute'], feat_info['missing_or_unknown']):\n",
    "    if missing_values[0] != '':\n",
    "        for value in missing_values:\n",
    "            if value.isnumeric() or value.lstrip('-').isnumeric():\n",
    "                value = int(value)\n",
    "            azdias.loc[azdias[attrib] == value, attrib] = np.nan\n",
    "            \n",
    "            \n",
    "\n",
    "Error from above code:            \n",
    "---------------------------------------------------------------------------\n",
    "TypeError                                 Traceback (most recent call last)\n",
    "<ipython-input-55-1c8090d45535> in <module>()\n",
    "     13             if value.isnumeric() or value.lstrip('-').isnumeric():\n",
    "     14                 value = int(value)\n",
    "---> 15             azdias.loc[azdias[attrib] == value, attrib] = np.nan\n",
    "\n",
    "/opt/conda/lib/python3.6/site-packages/pandas/core/ops.py in wrapper(self, other, axis)\n",
    "   1281 \n",
    "   1282             with np.errstate(all='ignore'):\n",
    "-> 1283                 res = na_op(values, other)\n",
    "   1284             if is_scalar(res):\n",
    "   1285                 raise TypeError('Could not compare {typ} type with Series'\n",
    "\n",
    "/opt/conda/lib/python3.6/site-packages/pandas/core/ops.py in na_op(x, y)\n",
    "   1167                     result = method(y)\n",
    "   1168                 if result is NotImplemented:\n",
    "-> 1169                     raise TypeError(\"invalid type comparison\")\n",
    "   1170             else:\n",
    "   1171                 result = op(x, y)\n",
    "\n",
    "TypeError: invalid type comparison"
   ]
  },
  {
   "cell_type": "code",
   "execution_count": null,
   "id": "c891a5c8-09e3-4c2a-a523-d5641672838b",
   "metadata": {},
   "outputs": [],
   "source": []
  }
 ],
 "metadata": {
  "kernelspec": {
   "display_name": "Python 3 (ipykernel)",
   "language": "python",
   "name": "python3"
  },
  "language_info": {
   "codemirror_mode": {
    "name": "ipython",
    "version": 3
   },
   "file_extension": ".py",
   "mimetype": "text/x-python",
   "name": "python",
   "nbconvert_exporter": "python",
   "pygments_lexer": "ipython3",
   "version": "3.9.7"
  }
 },
 "nbformat": 4,
 "nbformat_minor": 5
}
